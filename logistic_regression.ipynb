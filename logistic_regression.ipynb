{
 "cells": [
  {
   "cell_type": "markdown",
   "id": "341056f3",
   "metadata": {},
   "source": [
    "Creating a Logistic Regression Classifier"
   ]
  },
  {
   "cell_type": "code",
   "execution_count": 1,
   "id": "1c633cbc",
   "metadata": {},
   "outputs": [],
   "source": [
    "#instantiate the model\n",
    "def logistic_regression_model(X_train, X_test, y_train, y_test):\n",
    "    \n",
    "    clf = LogisticRegression(random_state=42)\n",
    "    #fit the model\n",
    "    clf.fit(X_train,y_train)\n",
    "    \n",
    "    #make prediction\n",
    "    y_pred=clf.predict(X_test)\n",
    "    \n",
    "    #evaluate the model\n",
    "    clf_accuracy = accuracy_score(y_test, y_pred)\n",
    "    clf_conf_matrix = confusion_matrix(y_test, y_pred)\n",
    "    clf_class_report = classification_report(y_test, y_pred)\n",
    "    \n",
    "    #displaying \n",
    "    print(f\"Accuracy: {clf_accuracy:.2f}\")\n",
    "    \n",
    "    print(\"Confusion Matrix:\")\n",
    "    print(clf_conf_matrix)\n",
    "    \n",
    "    print(\"Classification Report:\")\n",
    "    print(clf_class_report)\n",
    "    \n",
    "    return y_pred\n"
   ]
  },
  {
   "cell_type": "markdown",
   "id": "de8ecd84",
   "metadata": {},
   "source": [
    "Grid_search_\n",
    "Purpose: This retrieves the combination of hyperparams that would yield the best performance during cross-validation. Explanation: During gridsearch multiple combination of hyperparams eg; learning rate, number of estimators etc are tried and the performance is evaluated using cross-validation.\n",
    "\n",
    "during the gridsearch, the performance of the model is evaluated using a scoring metric for each hyperparameter combination. The best_score determines, how much an accuracy can be obtained on best_params_.\n",
    "\n",
    "gridsearch has been conducted for every model to understand in best conditions which model would give high scores."
   ]
  },
  {
   "cell_type": "code",
   "execution_count": 2,
   "id": "8e924b24",
   "metadata": {},
   "outputs": [
    {
     "ename": "NameError",
     "evalue": "name 'X_train' is not defined",
     "output_type": "error",
     "traceback": [
      "\u001b[1;31m---------------------------------------------------------------------------\u001b[0m",
      "\u001b[1;31mNameError\u001b[0m                                 Traceback (most recent call last)",
      "Cell \u001b[1;32mIn[2], line 56\u001b[0m\n\u001b[0;32m     50\u001b[0m     best_lr_model\u001b[38;5;241m.\u001b[39mfit(X_train,y_train)\n\u001b[0;32m     53\u001b[0m     \u001b[38;5;28;01mreturn\u001b[39;00m best_lr_model\n\u001b[1;32m---> 56\u001b[0m best_model\u001b[38;5;241m=\u001b[39mbest_model_logreg(X_train, X_test, y_train, y_test)\n",
      "\u001b[1;31mNameError\u001b[0m: name 'X_train' is not defined"
     ]
    }
   ],
   "source": [
    "def best_model_logreg(X_train, X_test, y_train, y_test):\n",
    "    \n",
    "    # Define parameter grid\n",
    "    param_grid_lr = [\n",
    "        # For 'liblinear' solver\n",
    "        {\n",
    "            'solver': ['liblinear'],\n",
    "            'penalty': ['l1', 'l2'],\n",
    "            'C': [0.01, 0.1, 1, 10, 100]\n",
    "        },\n",
    "        # For 'saga' solver\n",
    "        {\n",
    "            'solver': ['saga'],\n",
    "            'penalty': ['l2', 'elasticnet'],\n",
    "            'C': [0.01, 0.1, 1, 10, 100],\n",
    "            'l1_ratio': [0.1, 0.5, 0.9]  # Only relevant for 'elasticnet' penalty\n",
    "        }\n",
    "    ]\n",
    "    # Initialize GridSearchCV\n",
    "    grid_search_lr = GridSearchCV(LogisticRegression(max_iter=1000), param_grid_lr, cv=5, verbose=1, n_jobs=-1)\n",
    "\n",
    "    # Fit GridSearchCV\n",
    "    grid_search_lr.fit(X_train, y_train)\n",
    "\n",
    "    # Best parameters and best score\n",
    "    print(f\"Best Parameters for Logistic Regression: {grid_search_lr.best_params_}\")\n",
    "    print(f\"Best Score for Logistic Regression: {grid_search_lr.best_score_}\")\n",
    "    lr_best_score = grid_search_lr.best_score_\n",
    "\n",
    "\n",
    "    # Use best model to make predictions\n",
    "    best_lr_model = grid_search_lr.best_estimator_\n",
    "    clf_y_pred = best_lr_model.predict(X_test)\n",
    "    \n",
    "    #evaluate the model\n",
    "    clf_accuracy = accuracy_score(y_test, clf_y_pred)\n",
    "    clf_conf_matrix = confusion_matrix(y_test, clf_y_pred)\n",
    "    clf_class_report = classification_report(y_test, clf_y_pred)\n",
    "\n",
    "    #displaying \n",
    "    print(f\"Accuracy: {clf_accuracy:.2f}\")\n",
    "\n",
    "    print(\"Confusion Matrix:\")\n",
    "    print(clf_conf_matrix)\n",
    "\n",
    "    print(\"Classification Report:\")\n",
    "    print(clf_class_report)\n",
    "    \n",
    "        #fitting the model to be used in other function for best accuracy.\n",
    "    best_lr_model.fit(X_train,y_train)\n",
    "\n",
    "    \n",
    "    return best_lr_model\n",
    "\n",
    "\n",
    "best_model=best_model_logreg(X_train, X_test, y_train, y_test)\n"
   ]
  },
  {
   "cell_type": "code",
   "execution_count": null,
   "id": "8ee6838c",
   "metadata": {},
   "outputs": [],
   "source": [
    "\n",
    "def best_acc(best_model, X_testing, test_df):\n",
    "    y_test_pred = best_model.predict(X_testing)\n",
    "    \n",
    "    #X-testing data is the encoded and scaled version of test_df given to us.\n",
    "    y_test_pred = best_model.predict(X_testing)\n",
    "\n",
    "    # To save the predictions\n",
    "    output_lr = pd.DataFrame({'PassengerId': test_df['PassengerId'], 'Survived': y_test_pred})\n",
    "    \n",
    "    return output_lr"
   ]
  }
 ],
 "metadata": {
  "kernelspec": {
   "display_name": "Python 3 (ipykernel)",
   "language": "python",
   "name": "python3"
  },
  "language_info": {
   "codemirror_mode": {
    "name": "ipython",
    "version": 3
   },
   "file_extension": ".py",
   "mimetype": "text/x-python",
   "name": "python",
   "nbconvert_exporter": "python",
   "pygments_lexer": "ipython3",
   "version": "3.11.4"
  }
 },
 "nbformat": 4,
 "nbformat_minor": 5
}
