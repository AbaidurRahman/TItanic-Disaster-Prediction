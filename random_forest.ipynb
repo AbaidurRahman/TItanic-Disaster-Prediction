{
 "cells": [
  {
   "cell_type": "markdown",
   "id": "db8d575f",
   "metadata": {},
   "source": [
    "#### Creating a  Random Forest Classifier"
   ]
  },
  {
   "cell_type": "code",
   "execution_count": 1,
   "id": "c5fcf9a2",
   "metadata": {},
   "outputs": [],
   "source": [
    "#instantiate the model\n",
    "def random_classifier(X_train, X_test,  y_train, y_test):\n",
    "    \n",
    "    Rf_clf = RandomForestClassifier(random_state=42)\n",
    "\n",
    "    #fit the model\n",
    "    Rf_clf.fit(X_train,y_train)\n",
    "\n",
    "    #make prediction\n",
    "    Rf_y_pred=Rf_clf.predict(X_test)\n",
    "\n",
    "    #evaluate the model\n",
    "    Rf_accuracy = accuracy_score(y_test, Rf_y_pred)\n",
    "    Rf_conf_matrix = confusion_matrix(y_test, Rf_y_pred)\n",
    "    Rf_class_report = classification_report(y_test, Rf_y_pred)\n",
    "\n",
    "    #displaying \n",
    "    print(f\"Accuracy: {Rf_accuracy:.2f}\")\n",
    "\n",
    "    print(\"Confusion Matrix:\")\n",
    "    print(Rf_conf_matrix)\n",
    "\n",
    "    print(\"Classification Report:\")\n",
    "    print(Rf_class_report)\n",
    "    \n",
    "    return Rf_y_pred"
   ]
  },
  {
   "cell_type": "code",
   "execution_count": 3,
   "id": "1a575b6f",
   "metadata": {},
   "outputs": [
    {
     "ename": "NameError",
     "evalue": "name 'X_train' is not defined",
     "output_type": "error",
     "traceback": [
      "\u001b[1;31m---------------------------------------------------------------------------\u001b[0m",
      "\u001b[1;31mNameError\u001b[0m                                 Traceback (most recent call last)",
      "Cell \u001b[1;32mIn[3], line 44\u001b[0m\n\u001b[0;32m     40\u001b[0m     \u001b[38;5;28mprint\u001b[39m(Rf_class_report)\n\u001b[0;32m     42\u001b[0m     \u001b[38;5;28;01mreturn\u001b[39;00m best_Rf_model\n\u001b[1;32m---> 44\u001b[0m best_model_R \u001b[38;5;241m=\u001b[39m best_random_forest(X_train, X_test,  y_train, y_test)\n",
      "\u001b[1;31mNameError\u001b[0m: name 'X_train' is not defined"
     ]
    }
   ],
   "source": [
    "def best_random_forest(X_train, X_test,  y_train, y_test):\n",
    "    \n",
    "    # Define parameter grid\n",
    "    param_grid_Rf = {\n",
    "        'n_estimators': [50, 100, 200],\n",
    "        'max_depth': [None, 10, 20, 30],\n",
    "        'min_samples_split': [2, 5, 10],\n",
    "        'min_samples_leaf': [1, 2, 4],\n",
    "        'max_features': ['sqrt', 'log2', None]\n",
    "    }\n",
    "\n",
    "    # Initialize GridSearchCV\n",
    "    grid_search_Rf = GridSearchCV(RandomForestClassifier(), param_grid_Rf, cv=5, verbose=1, n_jobs=-1)\n",
    "    \n",
    "    # Fit GridSearchCV\n",
    "    grid_search_Rf.fit(X_train, y_train)\n",
    "\n",
    "    # Best parameters and best score\n",
    "    print(f\"Best Parameters for Random Forest: {grid_search_Rf.best_params_}\")\n",
    "    print(f\"Best Score for Random Forest: {grid_search_Rf.best_score_}\")\n",
    "    Rf_best_score = grid_search_Rf.best_score_\n",
    "\n",
    "    # Use best model to make predictions\n",
    "    best_Rf_model = grid_search_Rf.best_estimator_\n",
    "    y_pred_Rf = best_Rf_model.predict(X_test)\n",
    "\n",
    "    # Evaluate the model\n",
    "\n",
    "    Rf_accuracy = accuracy_score(y_test, y_pred_Rf)\n",
    "    Rf_conf_matrix = confusion_matrix(y_test, y_pred_Rf)\n",
    "    Rf_class_report = classification_report(y_test, y_pred_Rf)\n",
    "\n",
    "    #displaying \n",
    "    print(f\"Accuracy: {Rf_accuracy:.2f}\")\n",
    "\n",
    "    print(\"Confusion Matrix:\")\n",
    "    print(Rf_conf_matrix)\n",
    "\n",
    "    print(\"Classification Report:\")\n",
    "    print(Rf_class_report)\n",
    "    \n",
    "    return best_Rf_model\n",
    "\n",
    "best_model_R = best_random_forest(X_train, X_test,  y_train, y_test)"
   ]
  },
  {
   "cell_type": "code",
   "execution_count": 4,
   "id": "b5856465",
   "metadata": {},
   "outputs": [],
   "source": [
    "\n",
    "def best_acc_R(best_model_R, X_testing, test_df):\n",
    "    \n",
    "    y_test_pred = best_model_R.predict(X_testing)\n",
    "    \n",
    "    #X-testing data is the encoded and scaled version of test_df given to us.\n",
    "    y_test_pred = best_model.predict(X_testing)\n",
    "\n",
    "    # To save the predictions\n",
    "    output_rf = pd.DataFrame({'PassengerId': test_df['PassengerId'], 'Survived': y_test_pred})\n",
    "    \n",
    "    return output_rf"
   ]
  }
 ],
 "metadata": {
  "kernelspec": {
   "display_name": "Python 3 (ipykernel)",
   "language": "python",
   "name": "python3"
  },
  "language_info": {
   "codemirror_mode": {
    "name": "ipython",
    "version": 3
   },
   "file_extension": ".py",
   "mimetype": "text/x-python",
   "name": "python",
   "nbconvert_exporter": "python",
   "pygments_lexer": "ipython3",
   "version": "3.11.4"
  }
 },
 "nbformat": 4,
 "nbformat_minor": 5
}
