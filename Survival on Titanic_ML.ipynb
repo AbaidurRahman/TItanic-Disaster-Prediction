{
 "cells": [
  {
   "cell_type": "markdown",
   "id": "e7b4751c",
   "metadata": {},
   "source": [
    "# Importing the libraries"
   ]
  },
  {
   "cell_type": "code",
   "execution_count": 1,
   "id": "d80843ee",
   "metadata": {},
   "outputs": [],
   "source": [
    "#Essentials\n",
    "import numpy as np\n",
    "import pandas as pd\n",
    "\n",
    "#Visualization\n",
    "import matplotlib.pyplot as plt \n",
    "import seaborn as sns\n",
    "\n",
    "#Categorical Encoders\n",
    "from sklearn.preprocessing import LabelEncoder\n",
    "import category_encoders as ce\n",
    "from sklearn.impute import SimpleImputer\n",
    "from sklearn.preprocessing import OrdinalEncoder\n",
    "\n",
    "\n",
    "#categorical attribute testing\n",
    "from sklearn.feature_selection import chi2\n",
    "\n",
    "#feature Scaling\n",
    "from sklearn.preprocessing import StandardScaler\n",
    "\n",
    "#Models and Accuracy checks\n",
    "\n",
    "from sklearn.linear_model import LogisticRegression\n",
    "from sklearn.ensemble import RandomForestClassifier\n",
    "from sklearn.svm import SVC\n",
    "from sklearn.ensemble import GradientBoostingClassifier\n",
    "\n",
    "\n",
    "from sklearn.model_selection import train_test_split, cross_val_score, GridSearchCV\n",
    "from sklearn.metrics import accuracy_score, confusion_matrix, classification_report,  mean_squared_error, roc_curve, auc \n"
   ]
  },
  {
   "cell_type": "markdown",
   "id": "d72f3b17",
   "metadata": {},
   "source": [
    "### Data Loading and Exploration\n",
    "Reading the dataset files from local computer and assigning to a var."
   ]
  },
  {
   "cell_type": "code",
   "execution_count": 2,
   "id": "07baa44f",
   "metadata": {},
   "outputs": [],
   "source": [
    "train_df = pd.read_csv(\"C:/Users/adilh/Projects/2nd_project/train.csv\")\n",
    "test_df = pd.read_csv(\"C:/Users/adilh/Projects/2nd_project/test.csv\")"
   ]
  },
  {
   "cell_type": "code",
   "execution_count": 3,
   "id": "e5b05df2",
   "metadata": {},
   "outputs": [
    {
     "data": {
      "text/html": [
       "<div>\n",
       "<style scoped>\n",
       "    .dataframe tbody tr th:only-of-type {\n",
       "        vertical-align: middle;\n",
       "    }\n",
       "\n",
       "    .dataframe tbody tr th {\n",
       "        vertical-align: top;\n",
       "    }\n",
       "\n",
       "    .dataframe thead th {\n",
       "        text-align: right;\n",
       "    }\n",
       "</style>\n",
       "<table border=\"1\" class=\"dataframe\">\n",
       "  <thead>\n",
       "    <tr style=\"text-align: right;\">\n",
       "      <th></th>\n",
       "      <th>PassengerId</th>\n",
       "      <th>Survived</th>\n",
       "      <th>Pclass</th>\n",
       "      <th>Name</th>\n",
       "      <th>Sex</th>\n",
       "      <th>Age</th>\n",
       "      <th>SibSp</th>\n",
       "      <th>Parch</th>\n",
       "      <th>Ticket</th>\n",
       "      <th>Fare</th>\n",
       "      <th>Cabin</th>\n",
       "      <th>Embarked</th>\n",
       "    </tr>\n",
       "  </thead>\n",
       "  <tbody>\n",
       "    <tr>\n",
       "      <th>0</th>\n",
       "      <td>1</td>\n",
       "      <td>0</td>\n",
       "      <td>3</td>\n",
       "      <td>Braund, Mr. Owen Harris</td>\n",
       "      <td>male</td>\n",
       "      <td>22.0</td>\n",
       "      <td>1</td>\n",
       "      <td>0</td>\n",
       "      <td>A/5 21171</td>\n",
       "      <td>7.2500</td>\n",
       "      <td>NaN</td>\n",
       "      <td>S</td>\n",
       "    </tr>\n",
       "    <tr>\n",
       "      <th>1</th>\n",
       "      <td>2</td>\n",
       "      <td>1</td>\n",
       "      <td>1</td>\n",
       "      <td>Cumings, Mrs. John Bradley (Florence Briggs Th...</td>\n",
       "      <td>female</td>\n",
       "      <td>38.0</td>\n",
       "      <td>1</td>\n",
       "      <td>0</td>\n",
       "      <td>PC 17599</td>\n",
       "      <td>71.2833</td>\n",
       "      <td>C85</td>\n",
       "      <td>C</td>\n",
       "    </tr>\n",
       "    <tr>\n",
       "      <th>2</th>\n",
       "      <td>3</td>\n",
       "      <td>1</td>\n",
       "      <td>3</td>\n",
       "      <td>Heikkinen, Miss. Laina</td>\n",
       "      <td>female</td>\n",
       "      <td>26.0</td>\n",
       "      <td>0</td>\n",
       "      <td>0</td>\n",
       "      <td>STON/O2. 3101282</td>\n",
       "      <td>7.9250</td>\n",
       "      <td>NaN</td>\n",
       "      <td>S</td>\n",
       "    </tr>\n",
       "    <tr>\n",
       "      <th>3</th>\n",
       "      <td>4</td>\n",
       "      <td>1</td>\n",
       "      <td>1</td>\n",
       "      <td>Futrelle, Mrs. Jacques Heath (Lily May Peel)</td>\n",
       "      <td>female</td>\n",
       "      <td>35.0</td>\n",
       "      <td>1</td>\n",
       "      <td>0</td>\n",
       "      <td>113803</td>\n",
       "      <td>53.1000</td>\n",
       "      <td>C123</td>\n",
       "      <td>S</td>\n",
       "    </tr>\n",
       "    <tr>\n",
       "      <th>4</th>\n",
       "      <td>5</td>\n",
       "      <td>0</td>\n",
       "      <td>3</td>\n",
       "      <td>Allen, Mr. William Henry</td>\n",
       "      <td>male</td>\n",
       "      <td>35.0</td>\n",
       "      <td>0</td>\n",
       "      <td>0</td>\n",
       "      <td>373450</td>\n",
       "      <td>8.0500</td>\n",
       "      <td>NaN</td>\n",
       "      <td>S</td>\n",
       "    </tr>\n",
       "  </tbody>\n",
       "</table>\n",
       "</div>"
      ],
      "text/plain": [
       "   PassengerId  Survived  Pclass  \\\n",
       "0            1         0       3   \n",
       "1            2         1       1   \n",
       "2            3         1       3   \n",
       "3            4         1       1   \n",
       "4            5         0       3   \n",
       "\n",
       "                                                Name     Sex   Age  SibSp  \\\n",
       "0                            Braund, Mr. Owen Harris    male  22.0      1   \n",
       "1  Cumings, Mrs. John Bradley (Florence Briggs Th...  female  38.0      1   \n",
       "2                             Heikkinen, Miss. Laina  female  26.0      0   \n",
       "3       Futrelle, Mrs. Jacques Heath (Lily May Peel)  female  35.0      1   \n",
       "4                           Allen, Mr. William Henry    male  35.0      0   \n",
       "\n",
       "   Parch            Ticket     Fare Cabin Embarked  \n",
       "0      0         A/5 21171   7.2500   NaN        S  \n",
       "1      0          PC 17599  71.2833   C85        C  \n",
       "2      0  STON/O2. 3101282   7.9250   NaN        S  \n",
       "3      0            113803  53.1000  C123        S  \n",
       "4      0            373450   8.0500   NaN        S  "
      ]
     },
     "execution_count": 3,
     "metadata": {},
     "output_type": "execute_result"
    }
   ],
   "source": [
    "#checking out training dataset values.\n",
    "train_df.head()"
   ]
  },
  {
   "cell_type": "markdown",
   "id": "83a239bb",
   "metadata": {},
   "source": [
    "#### understanding the attributes as follow:\n",
    "     PassengerId: Id for a person.\n",
    "     Survived: 0 means person has not survived, 1 means person survived. This is target column.\n",
    "     Pclass: Person or passenger class (1st=Upper / 1, 2nd= Middle / 2, 3rd=Lower / 3)\n",
    "     Name: Person Full Name\n",
    "     Sex: Person gender (male or female)\n",
    "     Age: Person Age (float value)\n",
    "     SibSp: number of siblings and spouses aboard\n",
    "     Parch: Number of parent and children aboard\n",
    "     Ticket: Ticket number\n",
    "     Fare: Passenger fare\n",
    "     Cabin: Cabin number\n",
    "     Embarked:(C=Cherbourg, Q=Queenstown, S=Southampton) Inform where the passenger embarked from."
   ]
  },
  {
   "cell_type": "code",
   "execution_count": 4,
   "id": "8117fc57",
   "metadata": {},
   "outputs": [
    {
     "data": {
      "text/plain": [
       "(891, 12)"
      ]
     },
     "execution_count": 4,
     "metadata": {},
     "output_type": "execute_result"
    }
   ],
   "source": [
    "#there are 891 number of rows and 12 column in the training_dataset csv file.\n",
    "train_df.shape"
   ]
  },
  {
   "cell_type": "code",
   "execution_count": 5,
   "id": "7d7a4dce",
   "metadata": {},
   "outputs": [
    {
     "name": "stdout",
     "output_type": "stream",
     "text": [
      "<class 'pandas.core.frame.DataFrame'>\n",
      "RangeIndex: 891 entries, 0 to 890\n",
      "Data columns (total 12 columns):\n",
      " #   Column       Non-Null Count  Dtype  \n",
      "---  ------       --------------  -----  \n",
      " 0   PassengerId  891 non-null    int64  \n",
      " 1   Survived     891 non-null    int64  \n",
      " 2   Pclass       891 non-null    int64  \n",
      " 3   Name         891 non-null    object \n",
      " 4   Sex          891 non-null    object \n",
      " 5   Age          714 non-null    float64\n",
      " 6   SibSp        891 non-null    int64  \n",
      " 7   Parch        891 non-null    int64  \n",
      " 8   Ticket       891 non-null    object \n",
      " 9   Fare         891 non-null    float64\n",
      " 10  Cabin        204 non-null    object \n",
      " 11  Embarked     889 non-null    object \n",
      "dtypes: float64(2), int64(5), object(5)\n",
      "memory usage: 83.7+ KB\n"
     ]
    }
   ],
   "source": [
    "train_df.info()"
   ]
  },
  {
   "cell_type": "code",
   "execution_count": 6,
   "id": "7e2e099b",
   "metadata": {},
   "outputs": [
    {
     "data": {
      "text/html": [
       "<div>\n",
       "<style scoped>\n",
       "    .dataframe tbody tr th:only-of-type {\n",
       "        vertical-align: middle;\n",
       "    }\n",
       "\n",
       "    .dataframe tbody tr th {\n",
       "        vertical-align: top;\n",
       "    }\n",
       "\n",
       "    .dataframe thead th {\n",
       "        text-align: right;\n",
       "    }\n",
       "</style>\n",
       "<table border=\"1\" class=\"dataframe\">\n",
       "  <thead>\n",
       "    <tr style=\"text-align: right;\">\n",
       "      <th></th>\n",
       "      <th>PassengerId</th>\n",
       "      <th>Survived</th>\n",
       "      <th>Pclass</th>\n",
       "      <th>Age</th>\n",
       "      <th>SibSp</th>\n",
       "      <th>Parch</th>\n",
       "      <th>Fare</th>\n",
       "    </tr>\n",
       "  </thead>\n",
       "  <tbody>\n",
       "    <tr>\n",
       "      <th>count</th>\n",
       "      <td>891.000000</td>\n",
       "      <td>891.000000</td>\n",
       "      <td>891.000000</td>\n",
       "      <td>714.000000</td>\n",
       "      <td>891.000000</td>\n",
       "      <td>891.000000</td>\n",
       "      <td>891.000000</td>\n",
       "    </tr>\n",
       "    <tr>\n",
       "      <th>mean</th>\n",
       "      <td>446.000000</td>\n",
       "      <td>0.383838</td>\n",
       "      <td>2.308642</td>\n",
       "      <td>29.699118</td>\n",
       "      <td>0.523008</td>\n",
       "      <td>0.381594</td>\n",
       "      <td>32.204208</td>\n",
       "    </tr>\n",
       "    <tr>\n",
       "      <th>std</th>\n",
       "      <td>257.353842</td>\n",
       "      <td>0.486592</td>\n",
       "      <td>0.836071</td>\n",
       "      <td>14.526497</td>\n",
       "      <td>1.102743</td>\n",
       "      <td>0.806057</td>\n",
       "      <td>49.693429</td>\n",
       "    </tr>\n",
       "    <tr>\n",
       "      <th>min</th>\n",
       "      <td>1.000000</td>\n",
       "      <td>0.000000</td>\n",
       "      <td>1.000000</td>\n",
       "      <td>0.420000</td>\n",
       "      <td>0.000000</td>\n",
       "      <td>0.000000</td>\n",
       "      <td>0.000000</td>\n",
       "    </tr>\n",
       "    <tr>\n",
       "      <th>25%</th>\n",
       "      <td>223.500000</td>\n",
       "      <td>0.000000</td>\n",
       "      <td>2.000000</td>\n",
       "      <td>20.125000</td>\n",
       "      <td>0.000000</td>\n",
       "      <td>0.000000</td>\n",
       "      <td>7.910400</td>\n",
       "    </tr>\n",
       "    <tr>\n",
       "      <th>50%</th>\n",
       "      <td>446.000000</td>\n",
       "      <td>0.000000</td>\n",
       "      <td>3.000000</td>\n",
       "      <td>28.000000</td>\n",
       "      <td>0.000000</td>\n",
       "      <td>0.000000</td>\n",
       "      <td>14.454200</td>\n",
       "    </tr>\n",
       "    <tr>\n",
       "      <th>75%</th>\n",
       "      <td>668.500000</td>\n",
       "      <td>1.000000</td>\n",
       "      <td>3.000000</td>\n",
       "      <td>38.000000</td>\n",
       "      <td>1.000000</td>\n",
       "      <td>0.000000</td>\n",
       "      <td>31.000000</td>\n",
       "    </tr>\n",
       "    <tr>\n",
       "      <th>max</th>\n",
       "      <td>891.000000</td>\n",
       "      <td>1.000000</td>\n",
       "      <td>3.000000</td>\n",
       "      <td>80.000000</td>\n",
       "      <td>8.000000</td>\n",
       "      <td>6.000000</td>\n",
       "      <td>512.329200</td>\n",
       "    </tr>\n",
       "  </tbody>\n",
       "</table>\n",
       "</div>"
      ],
      "text/plain": [
       "       PassengerId    Survived      Pclass         Age       SibSp  \\\n",
       "count   891.000000  891.000000  891.000000  714.000000  891.000000   \n",
       "mean    446.000000    0.383838    2.308642   29.699118    0.523008   \n",
       "std     257.353842    0.486592    0.836071   14.526497    1.102743   \n",
       "min       1.000000    0.000000    1.000000    0.420000    0.000000   \n",
       "25%     223.500000    0.000000    2.000000   20.125000    0.000000   \n",
       "50%     446.000000    0.000000    3.000000   28.000000    0.000000   \n",
       "75%     668.500000    1.000000    3.000000   38.000000    1.000000   \n",
       "max     891.000000    1.000000    3.000000   80.000000    8.000000   \n",
       "\n",
       "            Parch        Fare  \n",
       "count  891.000000  891.000000  \n",
       "mean     0.381594   32.204208  \n",
       "std      0.806057   49.693429  \n",
       "min      0.000000    0.000000  \n",
       "25%      0.000000    7.910400  \n",
       "50%      0.000000   14.454200  \n",
       "75%      0.000000   31.000000  \n",
       "max      6.000000  512.329200  "
      ]
     },
     "execution_count": 6,
     "metadata": {},
     "output_type": "execute_result"
    }
   ],
   "source": [
    "train_df.describe()"
   ]
  },
  {
   "cell_type": "markdown",
   "id": "242c86ae",
   "metadata": {},
   "source": [
    "##### this table describes that:\n",
    "    1. About 38% of the passenger survived the Titanic.\n",
    "    2. Passenger aboard the Titanic was nearly 30 years of age.\n",
    "    3. About 32$ or any currency value was the mean fare. "
   ]
  },
  {
   "cell_type": "markdown",
   "id": "2de59036",
   "metadata": {},
   "source": [
    "Now looking at the categorical attributes of every column\n"
   ]
  },
  {
   "cell_type": "code",
   "execution_count": 7,
   "id": "b657cc74",
   "metadata": {},
   "outputs": [
    {
     "data": {
      "text/plain": [
       "0    549\n",
       "1    342\n",
       "Name: Survived, dtype: int64"
      ]
     },
     "execution_count": 7,
     "metadata": {},
     "output_type": "execute_result"
    }
   ],
   "source": [
    "train_df['Survived'].value_counts()"
   ]
  },
  {
   "cell_type": "code",
   "execution_count": 8,
   "id": "8063e445",
   "metadata": {},
   "outputs": [
    {
     "data": {
      "text/plain": [
       "3    491\n",
       "1    216\n",
       "2    184\n",
       "Name: Pclass, dtype: int64"
      ]
     },
     "execution_count": 8,
     "metadata": {},
     "output_type": "execute_result"
    }
   ],
   "source": [
    "train_df['Pclass'].value_counts()"
   ]
  },
  {
   "cell_type": "code",
   "execution_count": 9,
   "id": "d5f8a48b",
   "metadata": {},
   "outputs": [
    {
     "data": {
      "text/plain": [
       "24.00    30\n",
       "22.00    27\n",
       "18.00    26\n",
       "19.00    25\n",
       "28.00    25\n",
       "         ..\n",
       "36.50     1\n",
       "55.50     1\n",
       "0.92      1\n",
       "23.50     1\n",
       "74.00     1\n",
       "Name: Age, Length: 88, dtype: int64"
      ]
     },
     "execution_count": 9,
     "metadata": {},
     "output_type": "execute_result"
    }
   ],
   "source": [
    "train_df['Age'].value_counts()"
   ]
  },
  {
   "cell_type": "code",
   "execution_count": 10,
   "id": "df806940",
   "metadata": {},
   "outputs": [
    {
     "data": {
      "text/plain": [
       "0    608\n",
       "1    209\n",
       "2     28\n",
       "4     18\n",
       "3     16\n",
       "8      7\n",
       "5      5\n",
       "Name: SibSp, dtype: int64"
      ]
     },
     "execution_count": 10,
     "metadata": {},
     "output_type": "execute_result"
    }
   ],
   "source": [
    "train_df['SibSp'].value_counts()"
   ]
  },
  {
   "cell_type": "code",
   "execution_count": 11,
   "id": "f88ec49e",
   "metadata": {},
   "outputs": [
    {
     "data": {
      "text/plain": [
       "0    678\n",
       "1    118\n",
       "2     80\n",
       "5      5\n",
       "3      5\n",
       "4      4\n",
       "6      1\n",
       "Name: Parch, dtype: int64"
      ]
     },
     "execution_count": 11,
     "metadata": {},
     "output_type": "execute_result"
    }
   ],
   "source": [
    "train_df['Parch'].value_counts()"
   ]
  },
  {
   "cell_type": "code",
   "execution_count": 12,
   "id": "79b8cf2e",
   "metadata": {},
   "outputs": [
    {
     "data": {
      "text/plain": [
       "8.0500     43\n",
       "13.0000    42\n",
       "7.8958     38\n",
       "7.7500     34\n",
       "26.0000    31\n",
       "           ..\n",
       "35.0000     1\n",
       "28.5000     1\n",
       "6.2375      1\n",
       "14.0000     1\n",
       "10.5167     1\n",
       "Name: Fare, Length: 248, dtype: int64"
      ]
     },
     "execution_count": 12,
     "metadata": {},
     "output_type": "execute_result"
    }
   ],
   "source": [
    "train_df['Fare'].value_counts()"
   ]
  },
  {
   "cell_type": "code",
   "execution_count": 13,
   "id": "f886445a",
   "metadata": {},
   "outputs": [
    {
     "data": {
      "text/plain": [
       "S    644\n",
       "C    168\n",
       "Q     77\n",
       "Name: Embarked, dtype: int64"
      ]
     },
     "execution_count": 13,
     "metadata": {},
     "output_type": "execute_result"
    }
   ],
   "source": [
    "train_df['Embarked'].value_counts()"
   ]
  },
  {
   "cell_type": "code",
   "execution_count": 14,
   "id": "aecbfa4e",
   "metadata": {},
   "outputs": [
    {
     "name": "stdout",
     "output_type": "stream",
     "text": [
      "PassengerId      0\n",
      "Survived         0\n",
      "Pclass           0\n",
      "Name             0\n",
      "Sex              0\n",
      "Age            177\n",
      "SibSp            0\n",
      "Parch            0\n",
      "Ticket           0\n",
      "Fare             0\n",
      "Cabin          687\n",
      "Embarked         2\n",
      "dtype: int64\n"
     ]
    }
   ],
   "source": [
    "#just checking out how many of null values are there in a dataset.\n",
    "null_values=train_df.isnull().sum()\n",
    "\n",
    "print(null_values)\n",
    "\n",
    "#this answers that there are some null values in column age and cabin."
   ]
  },
  {
   "cell_type": "markdown",
   "id": "af5015a3",
   "metadata": {},
   "source": [
    "#### Plotting relationship between Variables"
   ]
  },
  {
   "cell_type": "code",
   "execution_count": 15,
   "id": "493cba88",
   "metadata": {},
   "outputs": [
    {
     "data": {
      "image/png": "[encoded data removed]",
      "text/plain": [
       "<Figure size 800x600 with 2 Axes>"
      ]
     },
     "metadata": {},
     "output_type": "display_data"
    }
   ],
   "source": [
    "# Create a heatmap with percentage annotations\n",
    "\n",
    "correlation=train_df.corr(numeric_only=True)\n",
    "plt.figure(figsize=(8, 6))\n",
    "sns.heatmap(correlation, annot=True, fmt=\".2f\", cmap='coolwarm')\n",
    "plt.title('Correlation Matrix with Percentage Values')\n",
    "plt.show()\n",
    "\n",
    "# This correlation matrix can assist us in understanding the relations between features and outcome.\n",
    "# We can consider positive percentage relations alongside dynamic other relations. "
   ]
  },
  {
   "cell_type": "code",
   "execution_count": 16,
   "id": "4c510059",
   "metadata": {},
   "outputs": [
    {
     "name": "stdout",
     "output_type": "stream",
     "text": [
      "             PassengerId    Survived      Pclass         Age       SibSp  \\\n",
      "PassengerId   100.000000   -0.500666   -3.514399    3.684720   -5.752683   \n",
      "Survived       -0.500666  100.000000  -33.848104   -7.722109   -3.532250   \n",
      "Pclass         -3.514399  -33.848104  100.000000  -36.922602    8.308136   \n",
      "Age             3.684720   -7.722109  -36.922602  100.000000  -30.824676   \n",
      "SibSp          -5.752683   -3.532250    8.308136  -30.824676  100.000000   \n",
      "Parch          -0.165201    8.162941    1.844267  -18.911926   41.483770   \n",
      "Fare            1.265822   25.730652  -54.949962    9.606669   15.965104   \n",
      "\n",
      "                  Parch        Fare  \n",
      "PassengerId   -0.165201    1.265822  \n",
      "Survived       8.162941   25.730652  \n",
      "Pclass         1.844267  -54.949962  \n",
      "Age          -18.911926    9.606669  \n",
      "SibSp         41.483770   15.965104  \n",
      "Parch        100.000000   21.622494  \n",
      "Fare          21.622494  100.000000  \n"
     ]
    }
   ],
   "source": [
    "#printing percentage value of correlation matrix\n",
    "#this percentage can help us understand the correlation between the variables or features such as \n",
    "correlation_percentage=correlation * 100\n",
    "print(correlation_percentage)"
   ]
  },
  {
   "cell_type": "markdown",
   "id": "48eca1be",
   "metadata": {},
   "source": [
    "In the context of the train_df dataset, the correlation matrix can provide insights into how various factors or features are related to each other. Here are some key points about interpreting the correlation matrix:\n",
    "\n",
    "###### Passenger Attributes:\n",
    "\n",
    "The correlation matrix may show relationships between variables such as age, fare, class, and survival status.\n",
    "\n",
    "###### Interpretation:\n",
    "\n",
    "Survival Correlations: It may reveal which factors have a higher correlation with survival likelihood. For example, variables like passenger class (Pclass) or age may show correlations with survival outcomes.\n",
    "\n",
    "Class Correlations: The correlation matrix may indicate how passenger class (Pclass) is correlated with other variables. This can help understand the socio-economic dynamics among passengers.\n",
    "\n",
    "Age and Fare Correlations: Correlations between age and fare could indicate how ticket prices were related to passenger age or class.\n",
    "\n",
    "Insights:\n",
    "The correlation matrix can help identify which variables might be more important or influential in predicting survival or other outcomes.\n",
    "It can guide feature selection for predictive modeling or statistical analysis.\n",
    "\n",
    "Limitations:\n",
    "Correlation does not imply causation, so while correlations can highlight relationships, they do not explain the reasons behind them.\n",
    "The correlation matrix focuses on linear relationships and may not capture non-linear associations between variables.\n",
    "\n",
    "In summary, the correlation matrix of the train_df can help in understanding how different features are related within the dataset, particularly in terms of survival outcomes and passenger characteristics."
   ]
  },
  {
   "cell_type": "markdown",
   "id": "2924a6a4",
   "metadata": {},
   "source": [
    "##### Survival Correlation"
   ]
  },
  {
   "cell_type": "code",
   "execution_count": 17,
   "id": "fb0894ee",
   "metadata": {
    "scrolled": true
   },
   "outputs": [
    {
     "data": {
      "image/png": "[encoded data removed]",
      "text/plain": [
       "<Figure size 640x480 with 1 Axes>"
      ]
     },
     "metadata": {},
     "output_type": "display_data"
    }
   ],
   "source": [
    "#plot the crosstab graph for elaboration\n",
    "table=pd.crosstab(train_df['Pclass'],train_df['Survived'])\n",
    "\n",
    "axis=table.plot(kind='bar')\n",
    "plt.title('Pclass and Survived')\n",
    "plt.xlabel('Pclass')\n",
    "plt.ylabel('count')\n",
    "plt.xticks(rotation=0)\n",
    "\n",
    "plt.show()\n",
    "\n"
   ]
  },
  {
   "cell_type": "markdown",
   "id": "9dab08b2",
   "metadata": {},
   "source": [
    "Analyzing the crosstab between Pclass and Survived in the dataset reveals significant disparities in survival rates based  on passenger class. \n",
    "Higher-class passengers exhibited higher survival rates, indicating socio-economic status played a crucial role in survival outcomes. \n",
    "This analysis provides valuable insights into the dynamics of the tragedy."
   ]
  },
  {
   "cell_type": "code",
   "execution_count": 18,
   "id": "1129486e",
   "metadata": {},
   "outputs": [
    {
     "data": {
      "image/png": "[encoded data removed]",
      "text/plain": [
       "<Figure size 640x480 with 1 Axes>"
      ]
     },
     "metadata": {},
     "output_type": "display_data"
    }
   ],
   "source": [
    "#plot the crosstab graph for elaboration\n",
    "\n",
    "table=pd.crosstab(train_df['Embarked'],train_df['Pclass'])\n",
    "\n",
    "axis=table.plot(kind='bar')\n",
    "plt.title('Embarked and Pclass')\n",
    "plt.xlabel('Embarked')\n",
    "plt.ylabel('count')\n",
    "custom_handles=['1st=first','2nd=Second','3rd=Third']\n",
    "plt.legend(custom_handles)\n",
    "plt.xticks(rotation=0)\n",
    "plt.show()"
   ]
  },
  {
   "cell_type": "markdown",
   "id": "65f73c88",
   "metadata": {},
   "source": [
    "Analyzing the crosstab between Embarked and Pclass in the dataset uncovers potential correlations between boarding location and passenger class. This analysis may reveal patterns in class distribution across different embarkation ports, shedding light on socio-economic factors influencing passengers' travel choices."
   ]
  },
  {
   "cell_type": "code",
   "execution_count": 19,
   "id": "05ae7e6d",
   "metadata": {},
   "outputs": [
    {
     "data": {
      "image/png": "[encoded data removed]",
      "text/plain": [
       "<Figure size 640x480 with 1 Axes>"
      ]
     },
     "metadata": {},
     "output_type": "display_data"
    }
   ],
   "source": [
    "#plot the Age graph for elaboration\n",
    "plt.hist(train_df['Age'].dropna(),bins=20,color='skyblue',edgecolor='black')\n",
    "plt.xlabel('Age')\n",
    "plt.ylabel('frequency')\n",
    "plt.grid(axis='y', alpha=0.75)\n",
    "plt.title('Age Frequency')\n",
    "plt.show()"
   ]
  },
  {
   "cell_type": "markdown",
   "id": "624d6caa",
   "metadata": {},
   "source": [
    "both graphs of the age column is useful for displaying the distribution of ages, identifying patterns, outliers, and central tendencies. This is important for comprehending the demographic features of the dataset and extracting valuable insights from the data."
   ]
  },
  {
   "cell_type": "code",
   "execution_count": 20,
   "id": "f962eeb0",
   "metadata": {},
   "outputs": [
    {
     "data": {
      "image/png": "[encoded data removed]",
      "text/plain": [
       "<Figure size 640x480 with 1 Axes>"
      ]
     },
     "metadata": {},
     "output_type": "display_data"
    }
   ],
   "source": [
    "#plotting boxplot to read age distribution\n",
    "\n",
    "sns.boxplot(x=train_df['Age'])\n",
    "plt.title('Age Frequency/ Distribution')\n",
    "plt.show()\n"
   ]
  },
  {
   "cell_type": "code",
   "execution_count": 21,
   "id": "c88a8fa4",
   "metadata": {
    "scrolled": true
   },
   "outputs": [
    {
     "data": {
      "image/png": "[encoded data removed]",
      "text/plain": [
       "<Figure size 640x480 with 1 Axes>"
      ]
     },
     "metadata": {},
     "output_type": "display_data"
    }
   ],
   "source": [
    "#plot the boxplot graph for elaboration\n",
    "sns.boxplot(x=train_df['Survived'],y=train_df['Age'])\n",
    "\n",
    "plt.title('Survived and Age graph')\n",
    "plt.xlabel('Survived')\n",
    "plt.ylabel('Age')\n",
    "plt.grid(axis='y', alpha=0.75)\n",
    "plt.show()\n",
    "\n"
   ]
  },
  {
   "cell_type": "markdown",
   "id": "0bf4e155",
   "metadata": {},
   "source": [
    "A boxplot of 'Survived' and 'Age' provides insights into the relationship between age and survival status. It can reveal differences in age distributions between survivors and non-survivors. Key information includes median age of survivors, age range for each group, and potential outliers. This visualization helps understand how age may have influenced survival outcomes in the dataset."
   ]
  },
  {
   "cell_type": "code",
   "execution_count": 22,
   "id": "54412b32",
   "metadata": {
    "scrolled": true
   },
   "outputs": [
    {
     "data": {
      "image/png": "[encoded data removed]",
      "text/plain": [
       "<Figure size 640x480 with 1 Axes>"
      ]
     },
     "metadata": {},
     "output_type": "display_data"
    }
   ],
   "source": [
    "#plot the boxplot graph for elaboration\n",
    "sns.boxplot(x=train_df['Survived'],y=train_df['Sex'])\n",
    "\n",
    "plt.title('Survived and Sex graph')\n",
    "plt.xlabel('Survived')\n",
    "plt.ylabel('Sex')\n",
    "plt.grid(axis='y', alpha=0.75)\n",
    "plt.show()\n"
   ]
  },
  {
   "cell_type": "code",
   "execution_count": 23,
   "id": "58dfaeb3",
   "metadata": {},
   "outputs": [
    {
     "data": {
      "image/png": "[encoded data removed]",
      "text/plain": [
       "<Figure size 640x480 with 1 Axes>"
      ]
     },
     "metadata": {},
     "output_type": "display_data"
    }
   ],
   "source": [
    "# Calculate counts for each combination of survival and sex\n",
    "\n",
    "survived_sex = train_df.groupby(['Survived', 'Sex']).size().unstack()\n",
    "\n",
    "# Create stacked bar chart\n",
    "survived_sex.plot(kind='bar', stacked=True, color=[\t\"#7E2F8E\", \"#80B3FF\"])\n",
    "\n",
    "# Add labels and title\n",
    "plt.xlabel('Survived')\n",
    "plt.ylabel('Count')\n",
    "plt.title('Survival Count by Gender')\n",
    "plt.xticks(rotation=0)\n",
    "plt.grid(axis='y', alpha=0.75)\n",
    "plt.legend(title='Sex')\n",
    "\n",
    "# Display the chart\n",
    "plt.show()"
   ]
  },
  {
   "cell_type": "markdown",
   "id": "7a57b5a2",
   "metadata": {},
   "source": [
    "To understand the relationship between the 'Survived' and 'Sex' columns in a dataset, creating a stacked bar chart can be handy. This plot can effectively display the distribution of survival outcomes based on gender.This visualization allows for easy comparison of survival rates between males and females."
   ]
  },
  {
   "cell_type": "markdown",
   "id": "b3dc158b",
   "metadata": {},
   "source": [
    "### Data Preprocessing"
   ]
  },
  {
   "cell_type": "code",
   "execution_count": 24,
   "id": "8985ba8d",
   "metadata": {},
   "outputs": [
    {
     "name": "stdout",
     "output_type": "stream",
     "text": [
      "PassengerId      0\n",
      "Survived         0\n",
      "Pclass           0\n",
      "Name             0\n",
      "Sex              0\n",
      "Age            177\n",
      "SibSp            0\n",
      "Parch            0\n",
      "Ticket           0\n",
      "Fare             0\n",
      "Cabin          687\n",
      "Embarked         2\n",
      "dtype: int64\n"
     ]
    }
   ],
   "source": [
    "# Check for missing values\n",
    "print(train_df.isnull().sum())\n",
    "\n",
    "# Handle missing values (example: fill missing values with the mean)\n",
    "train_df['Age'].fillna(train_df['Age'].mean(), inplace=True)"
   ]
  },
  {
   "cell_type": "code",
   "execution_count": 25,
   "id": "1e6caee1",
   "metadata": {},
   "outputs": [
    {
     "name": "stdout",
     "output_type": "stream",
     "text": [
      "PassengerId      0\n",
      "Pclass           0\n",
      "Name             0\n",
      "Sex              0\n",
      "Age             86\n",
      "SibSp            0\n",
      "Parch            0\n",
      "Ticket           0\n",
      "Fare             1\n",
      "Cabin          327\n",
      "Embarked         0\n",
      "dtype: int64\n"
     ]
    }
   ],
   "source": [
    "# Check for missing values\n",
    "print(test_df.isnull().sum())\n",
    "\n",
    "# Handle missing values (example: fill missing values with the mean)\n",
    "test_df['Age'].fillna(test_df['Age'].mean(), inplace=True)\n",
    "test_df['Fare'].fillna(test_df['Fare'].mean(), inplace=True)"
   ]
  },
  {
   "cell_type": "markdown",
   "id": "bfb60b33",
   "metadata": {},
   "source": [
    "##### label encoder \n",
    "A label encoder converts categorical data into numerical form by assigning a unique integer to each category. It's used in machine learning to handle non-numeric data but can cause issues if the encoded integers are misinterpreted as having an ordinal relationship.\n"
   ]
  },
  {
   "cell_type": "code",
   "execution_count": 26,
   "id": "8fdd635c",
   "metadata": {},
   "outputs": [],
   "source": [
    "# Handle categorical data for column ['Embarked'] (example: Label encoding)\n",
    "le = LabelEncoder()\n",
    "train_df['Embarked'] = le.fit_transform(train_df['Embarked'])\n",
    "test_df['Embarked'] = le.fit_transform(test_df['Embarked'])"
   ]
  },
  {
   "cell_type": "markdown",
   "id": "c931d057",
   "metadata": {},
   "source": [
    "##### ordinal encoder\n",
    "\n",
    "An ordinal encoder is used for categorical data with an inherent order. It assigns integers based on the order of categories, preserving the rank relationship. This encoding is ideal for ordinal data like ratings (e.g., \"low,\" \"medium,\" \"high\")."
   ]
  },
  {
   "cell_type": "code",
   "execution_count": 27,
   "id": "92e83fdb",
   "metadata": {},
   "outputs": [],
   "source": [
    "#from sklearn.impute import SimpleImputer\n",
    "#from sklearn.preprocessing import OrdinalEncoder\n",
    "\n",
    "# Create a SimpleImputer to handle missing values by replacing them with the most frequent value\n",
    "imputer = SimpleImputer(strategy='most_frequent')\n",
    "\n",
    "# Fit and transform the imputer on the 'Sex' and 'Cabin' columns\n",
    "train_df[['Sex', 'Cabin']] = imputer.fit_transform(train_df[['Sex', 'Cabin']])\n",
    "test_df[['Sex', 'Cabin']] = imputer.fit_transform(test_df[['Sex', 'Cabin']])\n",
    "\n",
    "# Create an OrdinalEncoder to encode the categories in the 'Sex' and 'Cabin' columns\n",
    "encoder = OrdinalEncoder()\n",
    "\n",
    "# Fit and transform the encoder on the 'Sex' and 'Cabin' columns\n",
    "train_df[['Sex', 'Cabin']] = encoder.fit_transform(train_df[['Sex', 'Cabin']])\n",
    "test_df[['Sex', 'Cabin']] = encoder.fit_transform(test_df[['Sex', 'Cabin']])"
   ]
  },
  {
   "cell_type": "markdown",
   "id": "dc88e01f",
   "metadata": {},
   "source": [
    "    Applying Chi-square test on the categorical attributes such as Sex and Embarked.\n",
    "    Higher Chi-square scores indicate stronger relationships with the target variable."
   ]
  },
  {
   "cell_type": "code",
   "execution_count": 28,
   "id": "d8eb94e7",
   "metadata": {},
   "outputs": [
    {
     "data": {
      "image/png": "[encoded data removed]",
      "text/plain": [
       "<Figure size 640x480 with 1 Axes>"
      ]
     },
     "metadata": {},
     "output_type": "display_data"
    }
   ],
   "source": [
    "#Applying Chi-square test on the categorical attributes such as Sex and Embarked\n",
    "data_input=train_df[['Sex','Embarked']]\n",
    "data_output=train_df['Survived']\n",
    "\n",
    "chi_score=chi2(data_input, data_output)\n",
    "chi2_score=pd.Series(chi_score[0],index=data_input.columns)\n",
    "chi2_score.sort_values(ascending=False).plot.bar()\n",
    "plt.title('Chi-Square Test Scores for Categorical Features')\n",
    "plt.grid(axis='y', alpha=0.75)\n",
    "plt.xticks(rotation=0)\n",
    "plt.show()"
   ]
  },
  {
   "cell_type": "markdown",
   "id": "c83105ba",
   "metadata": {},
   "source": [
    "#### Feature Engineering / feature Scaling"
   ]
  },
  {
   "cell_type": "markdown",
   "id": "13cff44d",
   "metadata": {},
   "source": [
    "Created a new column named family_size, which are the addition of SibSp and Parch.\n",
    "\n",
    "recall: Sibsp represents sibling and spouses, and Parch represented parent and children subsequently. \n"
   ]
  },
  {
   "cell_type": "code",
   "execution_count": 29,
   "id": "f8daf277",
   "metadata": {},
   "outputs": [],
   "source": [
    "# Feature engineering (example: creating a new feature 'family_size')\n",
    "train_df['Family_size'] = train_df['SibSp'] + train_df['Parch']\n",
    "test_df['Family_size'] = test_df['SibSp'] + test_df['Parch']\n",
    "\n",
    "# Normalize the numerical data (example: Min-Max scaling)\n",
    "#train_df['Age'] = (train_df['Age'] - train_df['Age'].min()) / (train_df['Age'].max() - train_df['Age'].min())"
   ]
  },
  {
   "cell_type": "code",
   "execution_count": 30,
   "id": "767ce0a4",
   "metadata": {},
   "outputs": [
    {
     "name": "stdout",
     "output_type": "stream",
     "text": [
      "PassengerId    0\n",
      "Survived       0\n",
      "Pclass         0\n",
      "Name           0\n",
      "Sex            0\n",
      "Age            0\n",
      "SibSp          0\n",
      "Parch          0\n",
      "Ticket         0\n",
      "Fare           0\n",
      "Cabin          0\n",
      "Embarked       0\n",
      "Family_size    0\n",
      "dtype: int64\n"
     ]
    }
   ],
   "source": [
    "#rechecking any null value if present in the dataframe.\n",
    "print(train_df.isnull().sum())\n"
   ]
  },
  {
   "cell_type": "code",
   "execution_count": 31,
   "id": "e9b9ef5a",
   "metadata": {},
   "outputs": [
    {
     "name": "stdout",
     "output_type": "stream",
     "text": [
      "PassengerId    0\n",
      "Pclass         0\n",
      "Name           0\n",
      "Sex            0\n",
      "Age            0\n",
      "SibSp          0\n",
      "Parch          0\n",
      "Ticket         0\n",
      "Fare           0\n",
      "Cabin          0\n",
      "Embarked       0\n",
      "Family_size    0\n",
      "dtype: int64\n"
     ]
    }
   ],
   "source": [
    "#rechecking any null value if present in the dataframe.\n",
    "print(test_df.isnull().sum())\n"
   ]
  },
  {
   "cell_type": "code",
   "execution_count": 32,
   "id": "15060404",
   "metadata": {},
   "outputs": [],
   "source": [
    "#Whenever we need to select multiple columns, they should be sent as a list.\n",
    "#we are considering Cabin as a feature,\n",
    "#supposing Cabin on higher deck has more chances of survival then other two Cabins.\n",
    "\n",
    "final_features=['PassengerId','Pclass','Sex','Age','Fare','Cabin','Embarked','Family_size']\n",
    "X = train_df[final_features]\n",
    "y = train_df['Survived']\n",
    "\n",
    "final_features_test=['PassengerId','Pclass','Sex','Age','Fare','Cabin','Embarked','Family_size']\n",
    "X_testdf = test_df[final_features_test]\n",
    "\n",
    "\n"
   ]
  },
  {
   "cell_type": "markdown",
   "id": "6744d136",
   "metadata": {},
   "source": [
    "StandardScaler():\n",
    " scales the features so that each feature has a mean of 0 and a standard deviation of 1. The scaled data is converted back into a df with the same column names."
   ]
  },
  {
   "cell_type": "code",
   "execution_count": 33,
   "id": "3359937c",
   "metadata": {},
   "outputs": [
    {
     "name": "stdout",
     "output_type": "stream",
     "text": [
      "   PassengerId    Pclass       Sex       Age      Fare     Cabin  Embarked  \\\n",
      "0    -1.730108  0.827377  0.737695 -0.592481 -0.502445 -0.281881  0.581114   \n",
      "1    -1.726220 -1.566107 -1.355574  0.638789  0.786845  1.161545 -1.938460   \n",
      "2    -1.722332  0.827377 -1.355574 -0.284663 -0.488854 -0.281881  0.581114   \n",
      "3    -1.718444 -1.566107 -1.355574  0.407926  0.420730  0.057748  0.581114   \n",
      "4    -1.714556  0.827377  0.737695  0.407926 -0.486337 -0.281881  0.581114   \n",
      "\n",
      "   Family_size  \n",
      "0     0.059160  \n",
      "1     0.059160  \n",
      "2    -0.560975  \n",
      "3     0.059160  \n",
      "4    -0.560975  \n"
     ]
    }
   ],
   "source": [
    "#initialize the Standard Scaler\n",
    "scaler=StandardScaler()\n",
    "\n",
    "#fit and transforming the data\n",
    "X_scaled=scaler.fit_transform(X)\n",
    "\n",
    "#Converting the scaled data into dataframe again\n",
    "X_scaled_df=pd.DataFrame(X_scaled, columns=X.columns)\n",
    "\n",
    "X=X_scaled_df  \n",
    "\n",
    "print(X.head())"
   ]
  },
  {
   "cell_type": "code",
   "execution_count": 34,
   "id": "25c5b618",
   "metadata": {},
   "outputs": [
    {
     "name": "stdout",
     "output_type": "stream",
     "text": [
      "   PassengerId    Pclass       Sex       Age      Fare    Cabin  Embarked  \\\n",
      "0    -1.727912  0.873482  0.755929  0.334993 -0.498407 -0.35149 -0.470915   \n",
      "1    -1.719625  0.873482 -1.322876  1.325530 -0.513274 -0.35149  0.700767   \n",
      "2    -1.711337 -0.315819  0.755929  2.514175 -0.465088 -0.35149 -0.470915   \n",
      "3    -1.703050  0.873482  0.755929 -0.259330 -0.483466 -0.35149  0.700767   \n",
      "4    -1.694763  0.873482 -1.322876 -0.655545 -0.418471 -0.35149  0.700767   \n",
      "\n",
      "   Family_size  \n",
      "0    -0.553443  \n",
      "1     0.105643  \n",
      "2    -0.553443  \n",
      "3    -0.553443  \n",
      "4     0.764728  \n"
     ]
    }
   ],
   "source": [
    "#initialize the Standard Scaler\n",
    "#scaler=StandardScaler()\n",
    "\n",
    "#fit and transforming the data\n",
    "X_test_scaled=scaler.fit_transform(X_testdf)\n",
    "\n",
    "#Converting the scaled data into dataframe again\n",
    "X_test_scaled_df=pd.DataFrame(X_test_scaled, columns=X_testdf.columns)\n",
    "\n",
    "X_testing=X_test_scaled_df  \n",
    "\n",
    "print(X_testing.head())"
   ]
  },
  {
   "cell_type": "markdown",
   "id": "3257ddef",
   "metadata": {},
   "source": [
    "splitting the data using train test split "
   ]
  },
  {
   "cell_type": "code",
   "execution_count": 35,
   "id": "5b1d2938",
   "metadata": {},
   "outputs": [],
   "source": [
    "X_train, X_test, y_train, y_test = train_test_split(X,y,test_size=0.2,random_state=42)"
   ]
  },
  {
   "cell_type": "markdown",
   "id": "95b26d15",
   "metadata": {},
   "source": [
    "Performing gridsearch on model helps us understand which model after the tuning hyperparameters help in achieving best accuracy."
   ]
  },
  {
   "cell_type": "markdown",
   "id": "8bbaa2f6",
   "metadata": {},
   "source": [
    "#### Creating a  Logistic Regression Classifier"
   ]
  },
  {
   "cell_type": "code",
   "execution_count": 36,
   "id": "bb0d38fb",
   "metadata": {},
   "outputs": [
    {
     "name": "stdout",
     "output_type": "stream",
     "text": [
      "Accuracy: 0.81\n",
      "Confusion Matrix:\n",
      "[[90 15]\n",
      " [19 55]]\n",
      "Classification Report:\n",
      "              precision    recall  f1-score   support\n",
      "\n",
      "           0       0.83      0.86      0.84       105\n",
      "           1       0.79      0.74      0.76        74\n",
      "\n",
      "    accuracy                           0.81       179\n",
      "   macro avg       0.81      0.80      0.80       179\n",
      "weighted avg       0.81      0.81      0.81       179\n",
      "\n"
     ]
    }
   ],
   "source": [
    "#instantiate the model\n",
    "clf = LogisticRegression(random_state=42)\n",
    "\n",
    "#fit the model\n",
    "clf.fit(X_train,y_train)\n",
    "\n",
    "#make prediction\n",
    "y_pred=clf.predict(X_test)\n",
    "\n",
    "#evaluate the model\n",
    "clf_accuracy = accuracy_score(y_test, y_pred)\n",
    "clf_conf_matrix = confusion_matrix(y_test, y_pred)\n",
    "clf_class_report = classification_report(y_test, y_pred)\n",
    "\n",
    "#displaying \n",
    "print(f\"Accuracy: {clf_accuracy:.2f}\")\n",
    "\n",
    "print(\"Confusion Matrix:\")\n",
    "print(clf_conf_matrix)\n",
    "\n",
    "print(\"Classification Report:\")\n",
    "print(clf_class_report)"
   ]
  },
  {
   "cell_type": "markdown",
   "id": "5f3fd9ed",
   "metadata": {},
   "source": [
    "#### Grid_search_\n",
    "Purpose: This retrieves the combination of hyperparams that would yield the best performance during cross-validation.\n",
    "Explanation: During gridsearch multiple combination of hyperparams eg; learning rate, number of estimators etc are tried and the performance is evaluated using cross-validation.\n",
    "\n",
    "during the gridsearch, the performance of the model is evaluated using a scoring metric for each hyperparameter combination.\n",
    "The best_score determines, how much an accuracy can be obtained on best_params_.\n",
    "\n",
    "gridsearch has been conducted for every model to understand in best conditions which model would give high scores."
   ]
  },
  {
   "cell_type": "code",
   "execution_count": 37,
   "id": "4ddf900c",
   "metadata": {
    "scrolled": true
   },
   "outputs": [
    {
     "name": "stdout",
     "output_type": "stream",
     "text": [
      "Fitting 5 folds for each of 40 candidates, totalling 200 fits\n",
      "Best Parameters for Logistic Regression: {'C': 0.01, 'l1_ratio': 0.1, 'penalty': 'l2', 'solver': 'saga'}\n",
      "Best Score for Logistic Regression: 0.8033389146065202\n",
      "Accuracy: 0.82\n",
      "Confusion Matrix:\n",
      "[[95 10]\n",
      " [23 51]]\n",
      "Classification Report:\n",
      "              precision    recall  f1-score   support\n",
      "\n",
      "           0       0.81      0.90      0.85       105\n",
      "           1       0.84      0.69      0.76        74\n",
      "\n",
      "    accuracy                           0.82       179\n",
      "   macro avg       0.82      0.80      0.80       179\n",
      "weighted avg       0.82      0.82      0.81       179\n",
      "\n"
     ]
    },
    {
     "name": "stderr",
     "output_type": "stream",
     "text": [
      "C:\\Users\\adilh\\anaconda3\\Lib\\site-packages\\sklearn\\linear_model\\_logistic.py:1171: UserWarning: l1_ratio parameter is only used when penalty is 'elasticnet'. Got (penalty=l2)\n",
      "  warnings.warn(\n"
     ]
    }
   ],
   "source": [
    "# Define parameter grid\n",
    "param_grid_lr = [\n",
    "    # For 'liblinear' solver\n",
    "    {\n",
    "        'solver': ['liblinear'],\n",
    "        'penalty': ['l1', 'l2'],\n",
    "        'C': [0.01, 0.1, 1, 10, 100]\n",
    "    },\n",
    "    # For 'saga' solver\n",
    "    {\n",
    "        'solver': ['saga'],\n",
    "        'penalty': ['l2', 'elasticnet'],\n",
    "        'C': [0.01, 0.1, 1, 10, 100],\n",
    "        'l1_ratio': [0.1, 0.5, 0.9]  # Only relevant for 'elasticnet' penalty\n",
    "    }\n",
    "]\n",
    "\n",
    "# Initialize GridSearchCV\n",
    "grid_search_lr = GridSearchCV(LogisticRegression(max_iter=1000), param_grid_lr, cv=5, verbose=1, n_jobs=-1)\n",
    "\n",
    "# Fit GridSearchCV\n",
    "grid_search_lr.fit(X_train, y_train)\n",
    "\n",
    "# Best parameters and best score\n",
    "print(f\"Best Parameters for Logistic Regression: {grid_search_lr.best_params_}\")\n",
    "print(f\"Best Score for Logistic Regression: {grid_search_lr.best_score_}\")\n",
    "lr_best_score = grid_search_lr.best_score_\n",
    "\n",
    "\n",
    "# Use best model to make predictions\n",
    "best_lr_model = grid_search_lr.best_estimator_\n",
    "clf_y_pred = best_lr_model.predict(X_test)\n",
    "\n",
    "#evaluate the model\n",
    "clf_accuracy = accuracy_score(y_test, clf_y_pred)\n",
    "clf_conf_matrix = confusion_matrix(y_test, clf_y_pred)\n",
    "clf_class_report = classification_report(y_test, clf_y_pred)\n",
    "\n",
    "#displaying \n",
    "print(f\"Accuracy: {clf_accuracy:.2f}\")\n",
    "\n",
    "print(\"Confusion Matrix:\")\n",
    "print(clf_conf_matrix)\n",
    "\n",
    "print(\"Classification Report:\")\n",
    "print(clf_class_report)"
   ]
  },
  {
   "cell_type": "markdown",
   "id": "c0f78bd5",
   "metadata": {},
   "source": [
    "#### Creating a  Random Forest Classifier"
   ]
  },
  {
   "cell_type": "code",
   "execution_count": 38,
   "id": "400b6f32",
   "metadata": {},
   "outputs": [
    {
     "name": "stdout",
     "output_type": "stream",
     "text": [
      "Accuracy: 0.84\n",
      "Confusion Matrix:\n",
      "[[95 10]\n",
      " [19 55]]\n",
      "Classification Report:\n",
      "              precision    recall  f1-score   support\n",
      "\n",
      "           0       0.83      0.90      0.87       105\n",
      "           1       0.85      0.74      0.79        74\n",
      "\n",
      "    accuracy                           0.84       179\n",
      "   macro avg       0.84      0.82      0.83       179\n",
      "weighted avg       0.84      0.84      0.84       179\n",
      "\n"
     ]
    }
   ],
   "source": [
    "#instantiate the model\n",
    "Rf_clf = RandomForestClassifier(random_state=42)\n",
    "\n",
    "#fit the model\n",
    "Rf_clf.fit(X_train,y_train)\n",
    "\n",
    "#make prediction\n",
    "Rf_y_pred=Rf_clf.predict(X_test)\n",
    "\n",
    "#evaluate the model\n",
    "Rf_accuracy = accuracy_score(y_test, Rf_y_pred)\n",
    "Rf_conf_matrix = confusion_matrix(y_test, Rf_y_pred)\n",
    "Rf_class_report = classification_report(y_test, Rf_y_pred)\n",
    "\n",
    "#displaying \n",
    "print(f\"Accuracy: {Rf_accuracy:.2f}\")\n",
    "\n",
    "print(\"Confusion Matrix:\")\n",
    "print(Rf_conf_matrix)\n",
    "\n",
    "print(\"Classification Report:\")\n",
    "print(Rf_class_report)"
   ]
  },
  {
   "cell_type": "code",
   "execution_count": 39,
   "id": "75d0b1b6",
   "metadata": {},
   "outputs": [
    {
     "name": "stdout",
     "output_type": "stream",
     "text": [
      "Fitting 5 folds for each of 324 candidates, totalling 1620 fits\n",
      "Best Parameters for Random Forest: {'max_depth': 30, 'max_features': 'log2', 'min_samples_leaf': 4, 'min_samples_split': 2, 'n_estimators': 100}\n",
      "Best Score for Random Forest: 0.8426770412685904\n",
      "Accuracy: 0.84\n",
      "Confusion Matrix:\n",
      "[[94 11]\n",
      " [18 56]]\n",
      "Classification Report:\n",
      "              precision    recall  f1-score   support\n",
      "\n",
      "           0       0.84      0.90      0.87       105\n",
      "           1       0.84      0.76      0.79        74\n",
      "\n",
      "    accuracy                           0.84       179\n",
      "   macro avg       0.84      0.83      0.83       179\n",
      "weighted avg       0.84      0.84      0.84       179\n",
      "\n"
     ]
    }
   ],
   "source": [
    "# Define parameter grid\n",
    "param_grid_Rf = {\n",
    "    'n_estimators': [50, 100, 200],\n",
    "    'max_depth': [None, 10, 20, 30],\n",
    "    'min_samples_split': [2, 5, 10],\n",
    "    'min_samples_leaf': [1, 2, 4],\n",
    "    'max_features': ['sqrt', 'log2', None]\n",
    "}\n",
    "\n",
    "# Initialize GridSearchCV\n",
    "grid_search_Rf = GridSearchCV(RandomForestClassifier(), param_grid_Rf, cv=5, verbose=1, n_jobs=-1)\n",
    "\n",
    "# Fit GridSearchCV\n",
    "grid_search_Rf.fit(X_train, y_train)\n",
    "\n",
    "# Best parameters and best score\n",
    "print(f\"Best Parameters for Random Forest: {grid_search_Rf.best_params_}\")\n",
    "print(f\"Best Score for Random Forest: {grid_search_Rf.best_score_}\")\n",
    "Rf_best_score = grid_search_Rf.best_score_\n",
    "\n",
    "# Use best model to make predictions\n",
    "best_Rf_model = grid_search_Rf.best_estimator_\n",
    "y_pred_Rf = best_Rf_model.predict(X_test)\n",
    "\n",
    "# Evaluate the model\n",
    "\n",
    "Rf_accuracy = accuracy_score(y_test, y_pred_Rf)\n",
    "Rf_conf_matrix = confusion_matrix(y_test, y_pred_Rf)\n",
    "Rf_class_report = classification_report(y_test, y_pred_Rf)\n",
    "\n",
    "#displaying \n",
    "print(f\"Accuracy: {Rf_accuracy:.2f}\")\n",
    "\n",
    "print(\"Confusion Matrix:\")\n",
    "print(Rf_conf_matrix)\n",
    "\n",
    "print(\"Classification Report:\")\n",
    "print(Rf_class_report)"
   ]
  },
  {
   "cell_type": "markdown",
   "id": "ff3709f0",
   "metadata": {},
   "source": [
    "#### Creating a  Support Vector Machine"
   ]
  },
  {
   "cell_type": "code",
   "execution_count": 40,
   "id": "df65c730",
   "metadata": {},
   "outputs": [
    {
     "name": "stdout",
     "output_type": "stream",
     "text": [
      "Accuracy: 0.82\n",
      "Confusion Matrix:\n",
      "[[92 13]\n",
      " [20 54]]\n",
      "Classification Report:\n",
      "              precision    recall  f1-score   support\n",
      "\n",
      "           0       0.82      0.88      0.85       105\n",
      "           1       0.81      0.73      0.77        74\n",
      "\n",
      "    accuracy                           0.82       179\n",
      "   macro avg       0.81      0.80      0.81       179\n",
      "weighted avg       0.82      0.82      0.81       179\n",
      "\n"
     ]
    }
   ],
   "source": [
    "# Initialize the SVM model with a kernel \n",
    "Svm_model = SVC(kernel='rbf', random_state=42)  # 'rbf' is the default kernel.\n",
    "\n",
    "# Fit the model on the training data\n",
    "Svm_model.fit(X_train, y_train)\n",
    "\n",
    "# Make predictions on the test data\n",
    "Svm_y_pred = Svm_model.predict(X_test)\n",
    "\n",
    "#evaluate the model\n",
    "Svm_accuracy = accuracy_score(y_test, Svm_y_pred)\n",
    "Svm_conf_matrix = confusion_matrix(y_test, Svm_y_pred)\n",
    "Svm_class_report = classification_report(y_test, Svm_y_pred)\n",
    "\n",
    "#displaying \n",
    "print(f\"Accuracy: {Svm_accuracy:.2f}\")\n",
    "\n",
    "print(\"Confusion Matrix:\")\n",
    "print(Svm_conf_matrix)\n",
    "\n",
    "print(\"Classification Report:\")\n",
    "print(Svm_class_report)"
   ]
  },
  {
   "cell_type": "code",
   "execution_count": 41,
   "id": "d46ee105",
   "metadata": {},
   "outputs": [
    {
     "name": "stdout",
     "output_type": "stream",
     "text": [
      "Fitting 5 folds for each of 24 candidates, totalling 120 fits\n",
      "Best Parameters: {'C': 1, 'gamma': 0.1, 'kernel': 'rbf'}\n",
      "Best Score: 0.8117305229981288\n",
      "Accuracy: 0.82\n",
      "Confusion Matrix:\n",
      "[[92 13]\n",
      " [20 54]]\n",
      "Classification Report:\n",
      "              precision    recall  f1-score   support\n",
      "\n",
      "           0       0.82      0.88      0.85       105\n",
      "           1       0.81      0.73      0.77        74\n",
      "\n",
      "    accuracy                           0.82       179\n",
      "   macro avg       0.81      0.80      0.81       179\n",
      "weighted avg       0.82      0.82      0.81       179\n",
      "\n"
     ]
    }
   ],
   "source": [
    "# Hyperparameter tuning is essential for optimizing model performance,  \n",
    "# improving accuracy, enhancing generalization, and adapting models to different datasets. \n",
    "# It systematically searches for the best hyperparameter values, ensuring the model performs at its best.\n",
    "\n",
    "# Define parameter grid\n",
    "\n",
    "param_grid = {\n",
    "    'C': [0.1, 1, 10],\n",
    "    'gamma': [0.001, 0.01, 0.1, 1],\n",
    "    'kernel': ['linear', 'rbf']\n",
    "}\n",
    "\n",
    "# Initialize GridSearchCV\n",
    "grid_search = GridSearchCV(SVC(), param_grid, cv=5, verbose=1, n_jobs=-1)\n",
    "\n",
    "# Fit GridSearchCV\n",
    "grid_search.fit(X_train, y_train)\n",
    "\n",
    "# Best parameters and best score\n",
    "print(f\"Best Parameters: {grid_search.best_params_}\")\n",
    "print(f\"Best Score: {grid_search.best_score_}\")\n",
    "svc_best_score = grid_search.best_score_\n",
    "\n",
    "# Use best model to make predictions\n",
    "best_model = grid_search.best_estimator_\n",
    "Svm_y_pred = best_model.predict(X_test)\n",
    "\n",
    "\n",
    "#evaluate the model\n",
    "Svm_accuracy = accuracy_score(y_test, Svm_y_pred)\n",
    "Svm_conf_matrix = confusion_matrix(y_test, Svm_y_pred)\n",
    "Svm_class_report = classification_report(y_test, Svm_y_pred)\n",
    "\n",
    "#displaying \n",
    "print(f\"Accuracy: {Svm_accuracy:.2f}\")\n",
    "\n",
    "print(\"Confusion Matrix:\")\n",
    "print(Svm_conf_matrix)\n",
    "\n",
    "print(\"Classification Report:\")\n",
    "print(Svm_class_report)"
   ]
  },
  {
   "cell_type": "markdown",
   "id": "c1b47089",
   "metadata": {},
   "source": [
    "#### Creating a Gradient Boosting Machine"
   ]
  },
  {
   "cell_type": "code",
   "execution_count": 42,
   "id": "eb0f97a9",
   "metadata": {},
   "outputs": [
    {
     "name": "stdout",
     "output_type": "stream",
     "text": [
      "Fitting 3 folds for each of 243 candidates, totalling 729 fits\n",
      "Best Parameters for GBM: {'learning_rate': 0.2, 'max_depth': 3, 'min_samples_leaf': 1, 'min_samples_split': 2, 'n_estimators': 50}\n",
      "Best Score for GBM: 0.8314836483116453\n",
      "Accuracy: 0.82\n",
      "Confusion Matrix:\n",
      "[[91 14]\n",
      " [18 56]]\n",
      "Classification Report:\n",
      "              precision    recall  f1-score   support\n",
      "\n",
      "           0       0.83      0.87      0.85       105\n",
      "           1       0.80      0.76      0.78        74\n",
      "\n",
      "    accuracy                           0.82       179\n",
      "   macro avg       0.82      0.81      0.81       179\n",
      "weighted avg       0.82      0.82      0.82       179\n",
      "\n"
     ]
    }
   ],
   "source": [
    "# Initialize the Gradient Boosting Classifier\n",
    "gbm = GradientBoostingClassifier()\n",
    "\n",
    "# Define the parameter grid\n",
    "param_grid_gbm = {\n",
    "    'n_estimators': [50, 100, 200], #Number of boosting stages to be run.\n",
    "    'learning_rate': [0.01, 0.1, 0.2], #Step size shrinking to prevent overfitting.\n",
    "    'max_depth': [3, 5, 7],    #Maximum depth of the individual trees.\n",
    "    'min_samples_split': [2, 5, 10], #Minimum number of samples required to split an internal node.\n",
    "    'min_samples_leaf': [1, 2, 4] #Minimum number of samples required to be at a leaf node.\n",
    "}\n",
    "\n",
    "# Initialize GridSearchCV\n",
    "grid_search_gbm = GridSearchCV(gbm, param_grid_gbm, cv=3, verbose=1, n_jobs=-1)\n",
    "\n",
    "# Fit GridSearchCV\n",
    "grid_search_gbm.fit(X_train, y_train)\n",
    "\n",
    "# Best parameters and best score\n",
    "print(f\"Best Parameters for GBM: {grid_search_gbm.best_params_}\")\n",
    "print(f\"Best Score for GBM: {grid_search_gbm.best_score_}\")\n",
    "gbm_best_score = grid_search_gbm.best_score_\n",
    "\n",
    "# Get the best model\n",
    "best_gbm_model = grid_search_gbm.best_estimator_\n",
    "\n",
    "# Make predictions on the test set\n",
    "y_pred_gbm = best_gbm_model.predict(X_test)\n",
    "\n",
    "\n",
    "#evaluate the model\n",
    "gbm_accuracy = accuracy_score(y_test, y_pred_gbm)\n",
    "gbm_conf_matrix = confusion_matrix(y_test, y_pred_gbm)\n",
    "gbm_class_report = classification_report(y_test, y_pred_gbm)\n",
    "\n",
    "#displaying \n",
    "print(f\"Accuracy: {gbm_accuracy:.2f}\")\n",
    "\n",
    "print(\"Confusion Matrix:\")\n",
    "print(gbm_conf_matrix)\n",
    "\n",
    "print(\"Classification Report:\")\n",
    "print(gbm_class_report)"
   ]
  },
  {
   "cell_type": "code",
   "execution_count": 43,
   "id": "1a281483",
   "metadata": {},
   "outputs": [
    {
     "data": {
      "image/png": "[encoded data removed]",
      "text/plain": [
       "<Figure size 640x480 with 1 Axes>"
      ]
     },
     "metadata": {},
     "output_type": "display_data"
    }
   ],
   "source": [
    "# Now comparing the classifiers accuracy\n",
    "classifier_used=['logisticRegression','Randomforest','SVC','GBM']\n",
    "\n",
    "accuracies=[clf_accuracy, Rf_accuracy, Svm_accuracy, gbm_accuracy]\n",
    "plt.bar(classifier_used,accuracies)\n",
    "plt.xlabel('classifier')\n",
    "plt.ylabel('accuracy')\n",
    "plt.title('different model accuracies')\n",
    "plt.xticks(rotation=0)\n",
    "\n",
    "for i, j in enumerate(accuracies):\n",
    "    plt.text(i, j + 0.02, f\"{j:.2f}\", color='black', ha='center', va='center')\n",
    "\n",
    "\n",
    "plt.show()"
   ]
  },
  {
   "cell_type": "code",
   "execution_count": 44,
   "id": "5b75235b",
   "metadata": {},
   "outputs": [
    {
     "data": {
      "image/png": "[encoded data removed]",
      "text/plain": [
       "<Figure size 640x480 with 1 Axes>"
      ]
     },
     "metadata": {},
     "output_type": "display_data"
    }
   ],
   "source": [
    "# Now comparing the classifiers accuracy\n",
    "classifier_used=['logisticRegression','Randomforest','SVC','GBM']\n",
    "\n",
    "accuracies=[lr_best_score, Rf_best_score, svc_best_score, gbm_best_score]\n",
    "plt.bar(classifier_used,accuracies)\n",
    "plt.xlabel('classifier')\n",
    "plt.ylabel('accuracy')\n",
    "plt.title('model accuracies under best hyper params')\n",
    "plt.xticks(rotation=0)\n",
    "\n",
    "for i, j in enumerate(accuracies):\n",
    "    plt.text(i, j + 0.02, f\"{j:.2f}\", color='black', ha='center', va='center')\n",
    "\n",
    "plt.show()"
   ]
  },
  {
   "cell_type": "code",
   "execution_count": 45,
   "id": "62e40c94",
   "metadata": {},
   "outputs": [
    {
     "data": {
      "text/html": [
       "<div>\n",
       "<style scoped>\n",
       "    .dataframe tbody tr th:only-of-type {\n",
       "        vertical-align: middle;\n",
       "    }\n",
       "\n",
       "    .dataframe tbody tr th {\n",
       "        vertical-align: top;\n",
       "    }\n",
       "\n",
       "    .dataframe thead th {\n",
       "        text-align: right;\n",
       "    }\n",
       "</style>\n",
       "<table border=\"1\" class=\"dataframe\">\n",
       "  <thead>\n",
       "    <tr style=\"text-align: right;\">\n",
       "      <th></th>\n",
       "      <th>PassengerId</th>\n",
       "      <th>Pclass</th>\n",
       "      <th>Sex</th>\n",
       "      <th>Age</th>\n",
       "      <th>Fare</th>\n",
       "      <th>Cabin</th>\n",
       "      <th>Embarked</th>\n",
       "      <th>Family_size</th>\n",
       "    </tr>\n",
       "  </thead>\n",
       "  <tbody>\n",
       "    <tr>\n",
       "      <th>0</th>\n",
       "      <td>-1.727912</td>\n",
       "      <td>0.873482</td>\n",
       "      <td>0.755929</td>\n",
       "      <td>0.334993</td>\n",
       "      <td>-0.498407</td>\n",
       "      <td>-0.35149</td>\n",
       "      <td>-0.470915</td>\n",
       "      <td>-0.553443</td>\n",
       "    </tr>\n",
       "    <tr>\n",
       "      <th>1</th>\n",
       "      <td>-1.719625</td>\n",
       "      <td>0.873482</td>\n",
       "      <td>-1.322876</td>\n",
       "      <td>1.325530</td>\n",
       "      <td>-0.513274</td>\n",
       "      <td>-0.35149</td>\n",
       "      <td>0.700767</td>\n",
       "      <td>0.105643</td>\n",
       "    </tr>\n",
       "    <tr>\n",
       "      <th>2</th>\n",
       "      <td>-1.711337</td>\n",
       "      <td>-0.315819</td>\n",
       "      <td>0.755929</td>\n",
       "      <td>2.514175</td>\n",
       "      <td>-0.465088</td>\n",
       "      <td>-0.35149</td>\n",
       "      <td>-0.470915</td>\n",
       "      <td>-0.553443</td>\n",
       "    </tr>\n",
       "    <tr>\n",
       "      <th>3</th>\n",
       "      <td>-1.703050</td>\n",
       "      <td>0.873482</td>\n",
       "      <td>0.755929</td>\n",
       "      <td>-0.259330</td>\n",
       "      <td>-0.483466</td>\n",
       "      <td>-0.35149</td>\n",
       "      <td>0.700767</td>\n",
       "      <td>-0.553443</td>\n",
       "    </tr>\n",
       "    <tr>\n",
       "      <th>4</th>\n",
       "      <td>-1.694763</td>\n",
       "      <td>0.873482</td>\n",
       "      <td>-1.322876</td>\n",
       "      <td>-0.655545</td>\n",
       "      <td>-0.418471</td>\n",
       "      <td>-0.35149</td>\n",
       "      <td>0.700767</td>\n",
       "      <td>0.764728</td>\n",
       "    </tr>\n",
       "  </tbody>\n",
       "</table>\n",
       "</div>"
      ],
      "text/plain": [
       "   PassengerId    Pclass       Sex       Age      Fare    Cabin  Embarked  \\\n",
       "0    -1.727912  0.873482  0.755929  0.334993 -0.498407 -0.35149 -0.470915   \n",
       "1    -1.719625  0.873482 -1.322876  1.325530 -0.513274 -0.35149  0.700767   \n",
       "2    -1.711337 -0.315819  0.755929  2.514175 -0.465088 -0.35149 -0.470915   \n",
       "3    -1.703050  0.873482  0.755929 -0.259330 -0.483466 -0.35149  0.700767   \n",
       "4    -1.694763  0.873482 -1.322876 -0.655545 -0.418471 -0.35149  0.700767   \n",
       "\n",
       "   Family_size  \n",
       "0    -0.553443  \n",
       "1     0.105643  \n",
       "2    -0.553443  \n",
       "3    -0.553443  \n",
       "4     0.764728  "
      ]
     },
     "execution_count": 45,
     "metadata": {},
     "output_type": "execute_result"
    }
   ],
   "source": [
    "X_testing.head()"
   ]
  },
  {
   "cell_type": "markdown",
   "id": "807d60b3",
   "metadata": {},
   "source": [
    "As GBM model has proved to be providing high accuracy on tuning hyperparameters. So, we are going to pass our test_df through GBM model ."
   ]
  },
  {
   "cell_type": "code",
   "execution_count": 46,
   "id": "5df0dddd",
   "metadata": {},
   "outputs": [
    {
     "name": "stdout",
     "output_type": "stream",
     "text": [
      "Submission file created: gender_submission.csv\n"
     ]
    },
    {
     "data": {
      "text/html": [
       "<div>\n",
       "<style scoped>\n",
       "    .dataframe tbody tr th:only-of-type {\n",
       "        vertical-align: middle;\n",
       "    }\n",
       "\n",
       "    .dataframe tbody tr th {\n",
       "        vertical-align: top;\n",
       "    }\n",
       "\n",
       "    .dataframe thead th {\n",
       "        text-align: right;\n",
       "    }\n",
       "</style>\n",
       "<table border=\"1\" class=\"dataframe\">\n",
       "  <thead>\n",
       "    <tr style=\"text-align: right;\">\n",
       "      <th></th>\n",
       "      <th>PassengerId</th>\n",
       "      <th>Survived</th>\n",
       "    </tr>\n",
       "  </thead>\n",
       "  <tbody>\n",
       "    <tr>\n",
       "      <th>0</th>\n",
       "      <td>892</td>\n",
       "      <td>0</td>\n",
       "    </tr>\n",
       "    <tr>\n",
       "      <th>1</th>\n",
       "      <td>893</td>\n",
       "      <td>0</td>\n",
       "    </tr>\n",
       "    <tr>\n",
       "      <th>2</th>\n",
       "      <td>894</td>\n",
       "      <td>0</td>\n",
       "    </tr>\n",
       "    <tr>\n",
       "      <th>3</th>\n",
       "      <td>895</td>\n",
       "      <td>0</td>\n",
       "    </tr>\n",
       "    <tr>\n",
       "      <th>4</th>\n",
       "      <td>896</td>\n",
       "      <td>1</td>\n",
       "    </tr>\n",
       "    <tr>\n",
       "      <th>...</th>\n",
       "      <td>...</td>\n",
       "      <td>...</td>\n",
       "    </tr>\n",
       "    <tr>\n",
       "      <th>413</th>\n",
       "      <td>1305</td>\n",
       "      <td>0</td>\n",
       "    </tr>\n",
       "    <tr>\n",
       "      <th>414</th>\n",
       "      <td>1306</td>\n",
       "      <td>1</td>\n",
       "    </tr>\n",
       "    <tr>\n",
       "      <th>415</th>\n",
       "      <td>1307</td>\n",
       "      <td>0</td>\n",
       "    </tr>\n",
       "    <tr>\n",
       "      <th>416</th>\n",
       "      <td>1308</td>\n",
       "      <td>0</td>\n",
       "    </tr>\n",
       "    <tr>\n",
       "      <th>417</th>\n",
       "      <td>1309</td>\n",
       "      <td>0</td>\n",
       "    </tr>\n",
       "  </tbody>\n",
       "</table>\n",
       "<p>418 rows × 2 columns</p>\n",
       "</div>"
      ],
      "text/plain": [
       "     PassengerId  Survived\n",
       "0            892         0\n",
       "1            893         0\n",
       "2            894         0\n",
       "3            895         0\n",
       "4            896         1\n",
       "..           ...       ...\n",
       "413         1305         0\n",
       "414         1306         1\n",
       "415         1307         0\n",
       "416         1308         0\n",
       "417         1309         0\n",
       "\n",
       "[418 rows x 2 columns]"
      ]
     },
     "execution_count": 46,
     "metadata": {},
     "output_type": "execute_result"
    }
   ],
   "source": [
    "# Get the best model\n",
    "\n",
    "best_gbm_model.fit(X_train,y_train)\n",
    "\n",
    "#X-testing data is the encoded and scaled version of test_df given to us.\n",
    "y_test_pred = best_gbm_model.predict(X_testing)\n",
    "\n",
    "# To save the predictions\n",
    "output = pd.DataFrame({'PassengerId': test_df['PassengerId'], 'Survived': y_test_pred})\n",
    "output.to_csv('gender_submission.csv', index=False)\n",
    "print(\"Submission file created: gender_submission.csv\")\n",
    "\n",
    "\n",
    "\n",
    "output"
   ]
  },
  {
   "cell_type": "markdown",
   "id": "e56dc202",
   "metadata": {},
   "source": [
    "As RandomForest model has proved to be providing high accuracy on tuning hyperparameters. So, we are going to pass our test_df through GBM model ."
   ]
  },
  {
   "cell_type": "code",
   "execution_count": 47,
   "id": "464216a0",
   "metadata": {},
   "outputs": [
    {
     "data": {
      "text/html": [
       "<div>\n",
       "<style scoped>\n",
       "    .dataframe tbody tr th:only-of-type {\n",
       "        vertical-align: middle;\n",
       "    }\n",
       "\n",
       "    .dataframe tbody tr th {\n",
       "        vertical-align: top;\n",
       "    }\n",
       "\n",
       "    .dataframe thead th {\n",
       "        text-align: right;\n",
       "    }\n",
       "</style>\n",
       "<table border=\"1\" class=\"dataframe\">\n",
       "  <thead>\n",
       "    <tr style=\"text-align: right;\">\n",
       "      <th></th>\n",
       "      <th>PassengerId</th>\n",
       "      <th>Survived</th>\n",
       "    </tr>\n",
       "  </thead>\n",
       "  <tbody>\n",
       "    <tr>\n",
       "      <th>0</th>\n",
       "      <td>892</td>\n",
       "      <td>0</td>\n",
       "    </tr>\n",
       "    <tr>\n",
       "      <th>1</th>\n",
       "      <td>893</td>\n",
       "      <td>0</td>\n",
       "    </tr>\n",
       "    <tr>\n",
       "      <th>2</th>\n",
       "      <td>894</td>\n",
       "      <td>0</td>\n",
       "    </tr>\n",
       "    <tr>\n",
       "      <th>3</th>\n",
       "      <td>895</td>\n",
       "      <td>0</td>\n",
       "    </tr>\n",
       "    <tr>\n",
       "      <th>4</th>\n",
       "      <td>896</td>\n",
       "      <td>1</td>\n",
       "    </tr>\n",
       "    <tr>\n",
       "      <th>...</th>\n",
       "      <td>...</td>\n",
       "      <td>...</td>\n",
       "    </tr>\n",
       "    <tr>\n",
       "      <th>413</th>\n",
       "      <td>1305</td>\n",
       "      <td>0</td>\n",
       "    </tr>\n",
       "    <tr>\n",
       "      <th>414</th>\n",
       "      <td>1306</td>\n",
       "      <td>1</td>\n",
       "    </tr>\n",
       "    <tr>\n",
       "      <th>415</th>\n",
       "      <td>1307</td>\n",
       "      <td>0</td>\n",
       "    </tr>\n",
       "    <tr>\n",
       "      <th>416</th>\n",
       "      <td>1308</td>\n",
       "      <td>0</td>\n",
       "    </tr>\n",
       "    <tr>\n",
       "      <th>417</th>\n",
       "      <td>1309</td>\n",
       "      <td>0</td>\n",
       "    </tr>\n",
       "  </tbody>\n",
       "</table>\n",
       "<p>418 rows × 2 columns</p>\n",
       "</div>"
      ],
      "text/plain": [
       "     PassengerId  Survived\n",
       "0            892         0\n",
       "1            893         0\n",
       "2            894         0\n",
       "3            895         0\n",
       "4            896         1\n",
       "..           ...       ...\n",
       "413         1305         0\n",
       "414         1306         1\n",
       "415         1307         0\n",
       "416         1308         0\n",
       "417         1309         0\n",
       "\n",
       "[418 rows x 2 columns]"
      ]
     },
     "execution_count": 47,
     "metadata": {},
     "output_type": "execute_result"
    }
   ],
   "source": [
    "#get the best model\n",
    "\n",
    "best_Rf_model.fit(X_train,y_train)\n",
    "\n",
    "#X-testing data is the encoded and scaled version of test_df given to us.\n",
    "y_test_pred = best_Rf_model.predict(X_testing)\n",
    "\n",
    "# To save the predictions\n",
    "output_Rf = pd.DataFrame({'PassengerId': test_df['PassengerId'], 'Survived': y_test_pred})\n",
    "output_Rf"
   ]
  },
  {
   "cell_type": "code",
   "execution_count": null,
   "id": "17f3f196",
   "metadata": {},
   "outputs": [],
   "source": []
  },
  {
   "cell_type": "code",
   "execution_count": null,
   "id": "f54f3ad6",
   "metadata": {},
   "outputs": [],
   "source": []
  },
  {
   "cell_type": "code",
   "execution_count": null,
   "id": "4de614ca",
   "metadata": {},
   "outputs": [],
   "source": []
  }
 ],
 "metadata": {
  "kernelspec": {
   "display_name": "Python 3 (ipykernel)",
   "language": "python",
   "name": "python3"
  },
  "language_info": {
   "codemirror_mode": {
    "name": "ipython",
    "version": 3
   },
   "file_extension": ".py",
   "mimetype": "text/x-python",
   "name": "python",
   "nbconvert_exporter": "python",
   "pygments_lexer": "ipython3",
   "version": "3.11.4"
  }
 },
 "nbformat": 4,
 "nbformat_minor": 5
}
