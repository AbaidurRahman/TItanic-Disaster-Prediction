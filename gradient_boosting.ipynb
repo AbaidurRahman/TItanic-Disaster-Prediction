{
 "cells": [
  {
   "cell_type": "markdown",
   "id": "f09ad215",
   "metadata": {},
   "source": [
    "#### Creating a Gradient Boosting Machine"
   ]
  },
  {
   "cell_type": "code",
   "execution_count": 1,
   "id": "e4a60554",
   "metadata": {},
   "outputs": [],
   "source": [
    "def gradient_boosting_machine(X_train,X_test, y_train, y_test):\n",
    "\n",
    "    # Initialize the Gradient Boosting Classifier\n",
    "    gbm = GradientBoostingClassifier()\n",
    "\n",
    "    # Define the parameter grid\n",
    "    param_grid_gbm = {\n",
    "        'n_estimators': [50, 100, 200], #Number of boosting stages to be run.\n",
    "        'learning_rate': [0.01, 0.1, 0.2], #Step size shrinking to prevent overfitting.\n",
    "        'max_depth': [3, 5, 7],    #Maximum depth of the individual trees.\n",
    "        'min_samples_split': [2, 5, 10], #Minimum number of samples required to split an internal node.\n",
    "        'min_samples_leaf': [1, 2, 4] #Minimum number of samples required to be at a leaf node.\n",
    "    }\n",
    "\n",
    "    # Initialize GridSearchCV\n",
    "    grid_search_gbm = GridSearchCV(gbm, param_grid_gbm, cv=5, verbose=1, n_jobs=-1)\n",
    "\n",
    "    # Fit GridSearchCV\n",
    "    grid_search_gbm.fit(X_train, y_train)\n",
    "\n",
    "    # Best parameters and best score\n",
    "    print(f\"Best Parameters for GBM: {grid_search_gbm.best_params_}\")\n",
    "    print(f\"Best Score for GBM: {grid_search_gbm.best_score_}\")\n",
    "    gbm_best_score = grid_search_gbm.best_score_\n",
    "\n",
    "    # Get the best model\n",
    "    best_gbm_model = grid_search_gbm.best_estimator_\n",
    "\n",
    "    # Make predictions on the test set\n",
    "    y_pred_gbm = best_gbm_model.predict(X_test)\n",
    "\n",
    "\n",
    "    #evaluate the model\n",
    "    gbm_accuracy = accuracy_score(y_test, y_pred_gbm)\n",
    "    gbm_conf_matrix = confusion_matrix(y_test, y_pred_gbm)\n",
    "    gbm_class_report = classification_report(y_test, y_pred_gbm)\n",
    "\n",
    "    #displaying \n",
    "    print(f\"Accuracy: {gbm_accuracy:.2f}\")\n",
    "\n",
    "    print(\"Confusion Matrix:\")\n",
    "    print(gbm_conf_matrix)\n",
    "    \n",
    "    print(\"Classification Report:\")\n",
    "    print(gbm_class_report)\n",
    "    \n",
    "    return best_gbm_model"
   ]
  },
  {
   "cell_type": "code",
   "execution_count": 2,
   "id": "c162145f",
   "metadata": {},
   "outputs": [
    {
     "ename": "NameError",
     "evalue": "name 'X_train' is not defined",
     "output_type": "error",
     "traceback": [
      "\u001b[1;31m---------------------------------------------------------------------------\u001b[0m",
      "\u001b[1;31mNameError\u001b[0m                                 Traceback (most recent call last)",
      "Cell \u001b[1;32mIn[2], line 1\u001b[0m\n\u001b[1;32m----> 1\u001b[0m best_mobel_gbm \u001b[38;5;241m=\u001b[39m gradient_boosting_machine(X_train,X_test, y_train, y_test)\n\u001b[0;32m      3\u001b[0m \u001b[38;5;28;01mdef\u001b[39;00m \u001b[38;5;21mbest_acc_gbm\u001b[39m(best_model_gbm, X_testing, test_df):\n\u001b[0;32m      4\u001b[0m \u001b[38;5;66;03m# Get the best model\u001b[39;00m\n\u001b[0;32m      5\u001b[0m     best_model_gbm\u001b[38;5;241m.\u001b[39mfit(X_train,y_train)\n",
      "\u001b[1;31mNameError\u001b[0m: name 'X_train' is not defined"
     ]
    }
   ],
   "source": [
    "best_mobel_gbm = gradient_boosting_machine(X_train,X_test, y_train, y_test)\n",
    "\n",
    "def best_acc_gbm(best_model_gbm, X_testing, test_df):\n",
    "# Get the best model\n",
    "    best_model_gbm.fit(X_train,y_train)\n",
    "\n",
    "    #X-testing data is the encoded and scaled version of test_df given to us.\n",
    "    y_test_pred = best_model_gbm.predict(X_testing)\n",
    "\n",
    "    # To save the predictions\n",
    "    output_gbm = pd.DataFrame({'PassengerId': test_df['PassengerId'], 'Survived': y_test_pred})\n",
    "    \n",
    "    return output_gbm"
   ]
  }
 ],
 "metadata": {
  "kernelspec": {
   "display_name": "Python 3 (ipykernel)",
   "language": "python",
   "name": "python3"
  },
  "language_info": {
   "codemirror_mode": {
    "name": "ipython",
    "version": 3
   },
   "file_extension": ".py",
   "mimetype": "text/x-python",
   "name": "python",
   "nbconvert_exporter": "python",
   "pygments_lexer": "ipython3",
   "version": "3.11.4"
  }
 },
 "nbformat": 4,
 "nbformat_minor": 5
}
