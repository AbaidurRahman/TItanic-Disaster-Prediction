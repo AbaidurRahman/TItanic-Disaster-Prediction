{
 "cells": [
  {
   "cell_type": "markdown",
   "id": "a06f4823",
   "metadata": {},
   "source": [
    "#### Creating a  Support Vector Machine"
   ]
  },
  {
   "cell_type": "code",
   "execution_count": 1,
   "id": "c34ae090",
   "metadata": {},
   "outputs": [],
   "source": [
    "def svm_mod(X_train, X_test, y_train, y_test):\n",
    "    \n",
    "    # Initialize the SVM model with a kernel \n",
    "    Svm_model = SVC(kernel='rbf', random_state=42)  # 'rbf' is the default kernel.\n",
    "\n",
    "    # Fit the model on the training data\n",
    "    Svm_model.fit(X_train, y_train)\n",
    "\n",
    "    # Make predictions on the test data\n",
    "    Svm_y_pred = Svm_model.predict(X_test)\n",
    "\n",
    "    #evaluate the model\n",
    "    Svm_accuracy = accuracy_score(y_test, Svm_y_pred)\n",
    "    Svm_conf_matrix = confusion_matrix(y_test, Svm_y_pred)\n",
    "    Svm_class_report = classification_report(y_test, Svm_y_pred)\n",
    "\n",
    "    #displaying \n",
    "    print(f\"Accuracy: {Svm_accuracy:.2f}\")\n",
    "\n",
    "    print(\"Confusion Matrix:\")\n",
    "    print(Svm_conf_matrix)\n",
    "\n",
    "    print(\"Classification Report:\")\n",
    "    print(Svm_class_report)\n",
    "    \n",
    "    return svm_y_pred"
   ]
  },
  {
   "cell_type": "code",
   "execution_count": 2,
   "id": "9b1df71c",
   "metadata": {},
   "outputs": [],
   "source": [
    "# Hyperparameter tuning is essential for optimizing model performance,  \n",
    "# improving accuracy, enhancing generalization, and adapting models to different datasets. \n",
    "# It systematically searches for the best hyperparameter values, ensuring the model performs at its best.\n",
    "\n",
    "# Define parameter grid\n",
    "def best_svm(X_train, X_test, y_train, y_test):\n",
    "\n",
    "    param_grid = {\n",
    "        'C': [0.1, 1, 10],\n",
    "        'gamma': [0.001, 0.01, 0.1, 1],\n",
    "        'kernel': ['linear', 'rbf']\n",
    "    }\n",
    "\n",
    "    # Initialize GridSearchCV\n",
    "    grid_search = GridSearchCV(SVC(), param_grid, cv=5, verbose=1, n_jobs=-1)\n",
    "\n",
    "    # Fit GridSearchCV\n",
    "    grid_search.fit(X_train, y_train)\n",
    "\n",
    "    # Best parameters and best score\n",
    "    print(f\"Best Parameters: {grid_search.best_params_}\")\n",
    "    print(f\"Best Score: {grid_search.best_score_}\")\n",
    "    svc_best_score = grid_search.best_score_\n",
    "\n",
    "    # Use best model to make predictions\n",
    "    bestsvm_model = grid_search.best_estimator_\n",
    "    Svm_y_pred = best_model.predict(X_test)\n",
    "\n",
    "\n",
    "    #evaluate the model\n",
    "    Svm_accuracy = accuracy_score(y_test, Svm_y_pred)\n",
    "    Svm_conf_matrix = confusion_matrix(y_test, Svm_y_pred)\n",
    "    Svm_class_report = classification_report(y_test, Svm_y_pred)\n",
    "\n",
    "    #displaying \n",
    "    print(f\"Accuracy: {Svm_accuracy:.2f}\")\n",
    "\n",
    "    print(\"Confusion Matrix:\")\n",
    "    print(Svm_conf_matrix)\n",
    "\n",
    "    print(\"Classification Report:\")\n",
    "    print(Svm_class_report)\n",
    "    \n",
    "    return bestsvm_model"
   ]
  },
  {
   "cell_type": "code",
   "execution_count": 3,
   "id": "ccd98045",
   "metadata": {},
   "outputs": [
    {
     "ename": "NameError",
     "evalue": "name 'X_train' is not defined",
     "output_type": "error",
     "traceback": [
      "\u001b[1;31m---------------------------------------------------------------------------\u001b[0m",
      "\u001b[1;31mNameError\u001b[0m                                 Traceback (most recent call last)",
      "Cell \u001b[1;32mIn[3], line 1\u001b[0m\n\u001b[1;32m----> 1\u001b[0m bestsvm \u001b[38;5;241m=\u001b[39m best_svm(X_train, X_test, y_train, y_test)\n\u001b[0;32m      3\u001b[0m \u001b[38;5;28;01mdef\u001b[39;00m \u001b[38;5;21mbest_acc_svm\u001b[39m(bestsvm, X_testing, test_df):\n\u001b[0;32m      4\u001b[0m     y_test_pred \u001b[38;5;241m=\u001b[39m bestsvm\u001b[38;5;241m.\u001b[39mpredict(X_testing)\n",
      "\u001b[1;31mNameError\u001b[0m: name 'X_train' is not defined"
     ]
    }
   ],
   "source": [
    "bestsvm = best_svm(X_train, X_test, y_train, y_test)\n",
    "\n",
    "def best_acc_svm(bestsvm, X_testing, test_df):\n",
    "    y_test_pred = bestsvm.predict(X_testing)\n",
    "    \n",
    "    #X-testing data is the encoded and scaled version of test_df given to us.\n",
    "    y_test_pred = bestsvm.predict(X_testing)\n",
    "\n",
    "    # To save the predictions\n",
    "    output_svm = pd.DataFrame({'PassengerId': test_df['PassengerId'], 'Survived': y_test_pred})\n",
    "    \n",
    "    return output_svm"
   ]
  }
 ],
 "metadata": {
  "kernelspec": {
   "display_name": "Python 3 (ipykernel)",
   "language": "python",
   "name": "python3"
  },
  "language_info": {
   "codemirror_mode": {
    "name": "ipython",
    "version": 3
   },
   "file_extension": ".py",
   "mimetype": "text/x-python",
   "name": "python",
   "nbconvert_exporter": "python",
   "pygments_lexer": "ipython3",
   "version": "3.11.4"
  }
 },
 "nbformat": 4,
 "nbformat_minor": 5
}
